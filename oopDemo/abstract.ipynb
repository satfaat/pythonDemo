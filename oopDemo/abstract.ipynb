{
 "cells": [
  {
   "cell_type": "code",
   "execution_count": 1,
   "metadata": {},
   "outputs": [],
   "source": [
    "from abc import ABC\n",
    "from abc import abstractmethod"
   ]
  },
  {
   "cell_type": "code",
   "execution_count": 2,
   "metadata": {},
   "outputs": [],
   "source": [
    "class Vehicle(ABC):\n",
    "    @abstractmethod\n",
    "    def drive(self) -> None:\n",
    "        pass\n",
    "    @abstractmethod\n",
    "    def stop():\n",
    "        pass"
   ]
  },
  {
   "cell_type": "code",
   "execution_count": 7,
   "metadata": {},
   "outputs": [
    {
     "name": "stdout",
     "output_type": "stream",
     "text": [
      "car drive ...\n",
      "car stopped\n"
     ]
    }
   ],
   "source": [
    "class Car(Vehicle):\n",
    "    def drive(self) -> None:\n",
    "        print(\"car drive ...\")\n",
    "    def stop(self):\n",
    "        print(\"car stopped\")\n",
    "\n",
    "ford = Car()\n",
    "ford.drive()\n",
    "ford.stop()"
   ]
  },
  {
   "cell_type": "code",
   "execution_count": 10,
   "metadata": {},
   "outputs": [
    {
     "name": "stdout",
     "output_type": "stream",
     "text": [
      "motorcycle drive ...\n"
     ]
    }
   ],
   "source": [
    "class Motorcycle(Vehicle):\n",
    "    def drive(self) -> None:\n",
    "        print(\"motorcycle drive ...\")\n",
    "    def stop(self):\n",
    "        ...\n",
    "\n",
    "honda = Motorcycle()\n",
    "honda.drive()\n",
    "honda.stop()"
   ]
  }
 ],
 "metadata": {
  "kernelspec": {
   "display_name": ".envpy",
   "language": "python",
   "name": "python3"
  },
  "language_info": {
   "codemirror_mode": {
    "name": "ipython",
    "version": 3
   },
   "file_extension": ".py",
   "mimetype": "text/x-python",
   "name": "python",
   "nbconvert_exporter": "python",
   "pygments_lexer": "ipython3",
   "version": "3.11.5"
  },
  "orig_nbformat": 4
 },
 "nbformat": 4,
 "nbformat_minor": 2
}
