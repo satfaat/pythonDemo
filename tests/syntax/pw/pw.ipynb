{
 "cells": [
  {
   "cell_type": "code",
   "execution_count": 1,
   "metadata": {},
   "outputs": [],
   "source": [
    "import re\n",
    "from playwright.sync_api import Page, expect"
   ]
  },
  {
   "cell_type": "code",
   "execution_count": null,
   "metadata": {},
   "outputs": [],
   "source": [
    "\"\"\"\n",
    "page object or form object\n",
    "    - locator name\n",
    "    - page or form method\n",
    "test scenario based on page methods\n",
    "linked scenarios\n",
    "\"\"\""
   ]
  },
  {
   "cell_type": "code",
   "execution_count": null,
   "metadata": {},
   "outputs": [],
   "source": [
    "def unification(page: Page) -> None:\n",
    "    get_item_by_text = lambda item: page.get_by_text(item)\n",
    "\n",
    "    def has_default_restrictions(RESTRICTIONS) -> None:\n",
    "        for restriction in RESTRICTIONS:\n",
    "            expect(page.get_by_role(\n",
    "                \"cell\", name=restriction)).to_be_visible()"
   ]
  },
  {
   "cell_type": "code",
   "execution_count": null,
   "metadata": {},
   "outputs": [],
   "source": [
    "def time_handle(page: Page) -> None:\n",
    "    page.wait_for_timeout(1000)\n",
    "    page.goto('playwright.dev')\n",
    "    page.get_by_title('Menu').wait_for()\n",
    "    page.get_by_title('Menu').click(delay=1000)\n",
    "\n",
    "    page.wait_for_load_state('domcontentloaded')\n",
    "    page.wait_for_load_state('networkidle')"
   ]
  },
  {
   "cell_type": "code",
   "execution_count": 3,
   "metadata": {},
   "outputs": [],
   "source": [
    "def test_reg_exp(page: Page) -> None:\n",
    "    page.get_by_role(\"button\", name=re.compile(\"submit\", re.IGNORECASE)).click()"
   ]
  },
  {
   "cell_type": "code",
   "execution_count": 6,
   "metadata": {},
   "outputs": [
    {
     "name": "stdout",
     "output_type": "stream",
     "text": [
      "re.compile('is')\n"
     ]
    }
   ],
   "source": [
    "sentence = 'This is a sample string'\n",
    "word = re.compile(r'is')\n",
    "print(word)"
   ]
  },
  {
   "cell_type": "code",
   "execution_count": 2,
   "metadata": {},
   "outputs": [],
   "source": [
    "# Condition\n",
    "def test_condition(page: Page):\n",
    "    # Assert the checked state\n",
    "    assert page.get_by_label('Subscribe to newsletter').is_checked() is True\n",
    "\n",
    "    # Clicks a <button> that has either a \"Log in\" or \"Sign in\" text.\n",
    "    page.locator('button:has-text(\"Log in\"), button:has-text(\"Sign in\")').click()\n",
    "\n",
    "    if page.get_by_label('Subscribe to newsletter').is_visible():\n",
    "        page.get_by_label('Subscribe to newsletter').click()\n",
    "\n",
    "    if not (page.get_by_label('Subscribe to newsletter').is_visible()):\n",
    "        page.get_by_label('Subscribe to newsletter').click()"
   ]
  },
  {
   "cell_type": "code",
   "execution_count": null,
   "metadata": {},
   "outputs": [],
   "source": [
    "# Modal window\n",
    "def test_modal_window(page: Page) -> None:\n",
    "    page.get_by_role('dialog').locator('tr.tablerow:nth-child(1) > td:nth-child(5)')\n",
    "    page.reload()\n",
    "    page.close()"
   ]
  },
  {
   "cell_type": "code",
   "execution_count": null,
   "metadata": {},
   "outputs": [],
   "source": [
    "def test_modal_window(page: Page, FILENAME) -> None:\n",
    "    with page.expect_download() as file:\n",
    "        page.get_by_text(\"Download\").click()\n",
    "    download = file.value\n",
    "    download.save_as(f\".report/downloads/{FILENAME}.pdf\")"
   ]
  },
  {
   "cell_type": "code",
   "execution_count": null,
   "metadata": {},
   "outputs": [],
   "source": [
    "def series_locator(page: Page):\n",
    "    def invoice_nums(lmt): return [\n",
    "        page.\n",
    "        locator(f'tr.tablerow:nth-child({i}) > td:nth-child(1)')\n",
    "        for i in range(1, lmt)]"
   ]
  }
 ],
 "metadata": {
  "kernelspec": {
   "display_name": ".envpy",
   "language": "python",
   "name": "python3"
  },
  "language_info": {
   "codemirror_mode": {
    "name": "ipython",
    "version": 3
   },
   "file_extension": ".py",
   "mimetype": "text/x-python",
   "name": "python",
   "nbconvert_exporter": "python",
   "pygments_lexer": "ipython3",
   "version": "3.12.1"
  },
  "orig_nbformat": 4
 },
 "nbformat": 4,
 "nbformat_minor": 2
}
