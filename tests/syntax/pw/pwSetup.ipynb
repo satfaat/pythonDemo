{
 "cells": [
  {
   "cell_type": "code",
   "execution_count": 1,
   "metadata": {},
   "outputs": [
    {
     "name": "stdout",
     "output_type": "stream",
     "text": [
      "None environment\n"
     ]
    }
   ],
   "source": [
    "import pytest\n",
    "from playwright.sync_api import Browser, Page\n",
    "from configs.config import conf"
   ]
  },
  {
   "cell_type": "code",
   "execution_count": null,
   "metadata": {},
   "outputs": [],
   "source": [
    "@pytest.fixture(scope=\"session\")\n",
    "def browser_sales_office(browser: Browser):\n",
    "    context = browser.new_context(\n",
    "        storage_state=conf.STORAGE_STATE_SALES_OFFICE,\n",
    "        ignore_https_errors=True,\n",
    "        bypass_csp=True)\n",
    "    context.tracing.start(screenshots=True, snapshots=True, sources=True)\n",
    "    page: Page = context.new_page()\n",
    "    yield page\n",
    "    context.tracing.stop(path=\".report/trace/test_createDealOwner.zip\")"
   ]
  },
  {
   "cell_type": "code",
   "execution_count": null,
   "metadata": {},
   "outputs": [],
   "source": [
    "@pytest.fixture(scope=\"session\")\n",
    "def browser_context_args(browser_context_args, playwright):\n",
    "    return {\n",
    "        **browser_context_args,\n",
    "        \"ignore_https_errors\": True,\n",
    "        \"storage_state\": conf.STORAGE_STATE_SALES_OFFICE,\n",
    "        \"viewport\": {\n",
    "            \"width\": 600,\n",
    "            \"height\": 300,\n",
    "        }\n",
    "    }\n",
    "    yield context\n",
    "    context.tracing.stop(path=\".report/trace/test_createDealOwner.zip\")"
   ]
  },
  {
   "cell_type": "code",
   "execution_count": null,
   "metadata": {},
   "outputs": [],
   "source": [
    "@pytest.mark.browser_context_args(timezone_id=\"Europe/Berlin\", locale=\"en-GB\")\n",
    "def test_browser_context_args(page) -> None:\n",
    "    assert page.evaluate(\"window.navigator.userAgent\") == \"Europe/Berlin\"\n",
    "    assert page.evaluate(\"window.navigator.languages\") == [\"de-DE\"]"
   ]
  },
  {
   "cell_type": "code",
   "execution_count": null,
   "metadata": {},
   "outputs": [],
   "source": [
    "def test_has_title(page: Page) -> None:\n",
    "\n",
    "    page1 = page.context.new_page()\n",
    "    page2 = page.context.new_page()\n",
    "\n",
    "    page1.goto(\"https://playwright.dev/\")\n",
    "\n",
    "    page2.goto('tor.org')"
   ]
  },
  {
   "cell_type": "code",
   "execution_count": null,
   "metadata": {},
   "outputs": [],
   "source": [
    "def test_has_title(context) -> None:\n",
    "\n",
    "    page1 = context.new_page()\n",
    "    page2 = context.new_page()\n",
    "\n",
    "    page1.goto(\"https://playwright.dev/\")\n",
    "\n",
    "    page2.goto('tor.org')"
   ]
  }
 ],
 "metadata": {
  "kernelspec": {
   "display_name": ".envpy",
   "language": "python",
   "name": "python3"
  },
  "language_info": {
   "codemirror_mode": {
    "name": "ipython",
    "version": 3
   },
   "file_extension": ".py",
   "mimetype": "text/x-python",
   "name": "python",
   "nbconvert_exporter": "python",
   "pygments_lexer": "ipython3",
   "version": "3.11.5"
  }
 },
 "nbformat": 4,
 "nbformat_minor": 2
}
