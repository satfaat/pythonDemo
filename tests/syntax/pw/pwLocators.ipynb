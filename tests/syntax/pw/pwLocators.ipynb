{
 "cells": [
  {
   "cell_type": "code",
   "execution_count": 1,
   "metadata": {},
   "outputs": [],
   "source": [
    "from playwright.sync_api import Page"
   ]
  },
  {
   "cell_type": "code",
   "execution_count": 2,
   "metadata": {},
   "outputs": [],
   "source": [
    "def table_selector(page: Page) -> None:\n",
    "    page.get_by_role(\"cell\", name=\"td value\").first.click()\n",
    "    page.get_by_role(\"row\", name=\"tdValue1 tdValue2\").locator(\"a\").click()\n",
    "    \n",
    "    # example\n",
    "    page.get_by_role(\"row\", name=\"0400/0102/1/1174674\").locator(\"td:nth-child(16)\")"
   ]
  }
 ],
 "metadata": {
  "kernelspec": {
   "display_name": ".envpy",
   "language": "python",
   "name": "python3"
  },
  "language_info": {
   "codemirror_mode": {
    "name": "ipython",
    "version": 3
   },
   "file_extension": ".py",
   "mimetype": "text/x-python",
   "name": "python",
   "nbconvert_exporter": "python",
   "pygments_lexer": "ipython3",
   "version": "3.12.1"
  }
 },
 "nbformat": 4,
 "nbformat_minor": 2
}
