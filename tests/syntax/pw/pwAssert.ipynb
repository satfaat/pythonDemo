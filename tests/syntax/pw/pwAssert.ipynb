{
 "cells": [
  {
   "cell_type": "code",
   "execution_count": null,
   "metadata": {},
   "outputs": [],
   "source": [
    "import re\n",
    "from playwright.sync_api import Page, expect"
   ]
  },
  {
   "cell_type": "code",
   "execution_count": null,
   "metadata": {},
   "outputs": [],
   "source": [
    "def test_has_title(page: Page) -> None:\n",
    "    page.goto(\"https://playwright.dev/\")\n",
    "\n",
    "    # Expect a title \"to contain\" a substring.\n",
    "    expect(page).to_have_title(re.compile(\"Playwright\"))"
   ]
  },
  {
   "cell_type": "code",
   "execution_count": null,
   "metadata": {},
   "outputs": [],
   "source": [
    "def test_get_started_link(page: Page) -> None:\n",
    "    page.goto(\"https://playwright.dev/\")\n",
    "\n",
    "    assert page.get_by_role(\"link\", name=\"Get started\").is_visible()\n",
    "    assert page.get_by_role(\"link\", name=\"Get started\").is_hidden()\n",
    "    page.get_by_role(\"link\", name=\"Get started\").text_content()\n",
    "    page.get_by_role(\"link\", name=\"Get started\").input_value()\n",
    "\n",
    "    # Click the get started link.\n",
    "    page.get_by_role(\"link\", name=\"Get started\").click(timeout=1000)\n",
    "\n",
    "    # Expects page to have a heading with the name of Installation.\n",
    "    expect(page.get_by_role(\"heading\", name=\"Installation\")).to_be_visible()\n",
    "\n",
    "    expect(page.get_by_role(\"heading\", name=\"Installation\")).not_to_be_visible()\n",
    "    expect(page.get_by_role(\"heading\", name=\"Installation\")).not_to_have_count()"
   ]
  }
 ],
 "metadata": {
  "language_info": {
   "name": "python"
  }
 },
 "nbformat": 4,
 "nbformat_minor": 2
}
