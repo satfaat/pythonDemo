{
 "cells": [
  {
   "cell_type": "code",
   "execution_count": 1,
   "metadata": {},
   "outputs": [
    {
     "data": {
      "text/plain": [
       "'D:\\\\dev\\\\pythonDemo;'"
      ]
     },
     "execution_count": 1,
     "metadata": {},
     "output_type": "execute_result"
    }
   ],
   "source": [
    "import os\n",
    "\n",
    "os.environ['PYTHONPATH']"
   ]
  },
  {
   "cell_type": "code",
   "execution_count": 2,
   "metadata": {},
   "outputs": [],
   "source": [
    "from models.CountFromBy import CountFromBy"
   ]
  },
  {
   "cell_type": "code",
   "execution_count": 3,
   "metadata": {},
   "outputs": [],
   "source": [
    "a = CountFromBy(100, 10)"
   ]
  },
  {
   "cell_type": "code",
   "execution_count": 4,
   "metadata": {},
   "outputs": [
    {
     "data": {
      "text/plain": [
       "(100,\n",
       " None,\n",
       " 110,\n",
       " models.CountFromBy.CountFromBy,\n",
       " 2726864490832,\n",
       " '0x27ae5ca1150')"
      ]
     },
     "execution_count": 4,
     "metadata": {},
     "output_type": "execute_result"
    }
   ],
   "source": [
    "a.val,\\\n",
    "    a.increase(),\\\n",
    "    a.val,\\\n",
    "    type(a),\\\n",
    "    id(a),\\\n",
    "    hex(id(a))"
   ]
  },
  {
   "cell_type": "code",
   "execution_count": 5,
   "metadata": {},
   "outputs": [],
   "source": [
    "from models.Contact import Contact"
   ]
  },
  {
   "cell_type": "code",
   "execution_count": 4,
   "metadata": {},
   "outputs": [
    {
     "name": "stdout",
     "output_type": "stream",
     "text": [
      "СNew contact created: Владимир Маяковский\n"
     ]
    }
   ],
   "source": [
    "vlad = Contact('Владимир Маяковский', '73-88', 'Россия, Москва, Лубянский проезд, д. 3, кв. 12', '19.07.1893')"
   ]
  },
  {
   "cell_type": "code",
   "execution_count": 5,
   "metadata": {},
   "outputs": [],
   "source": [
    "def print_contact():\n",
    "    print(f\"{vlad.name} — адрес: {vlad.address}, телефон: {vlad.phone}, день рождения: {vlad.birthday}\")"
   ]
  },
  {
   "cell_type": "code",
   "execution_count": 6,
   "metadata": {},
   "outputs": [],
   "source": [
    "vlad.address = 'Россия, Москва, Гендриков переулок, дом 15, кв. 5'\n",
    "vlad.phone = '2-35-71'"
   ]
  },
  {
   "cell_type": "code",
   "execution_count": 7,
   "metadata": {},
   "outputs": [
    {
     "name": "stdout",
     "output_type": "stream",
     "text": [
      "Владимир Маяковский — адрес: Россия, Москва, Гендриков переулок, дом 15, кв. 5, телефон: 2-35-71, день рождения: 19.07.1893\n"
     ]
    }
   ],
   "source": [
    "print_contact()"
   ]
  },
  {
   "cell_type": "code",
   "execution_count": 8,
   "metadata": {},
   "outputs": [
    {
     "name": "stdout",
     "output_type": "stream",
     "text": [
      "Владимир Маяковский — адрес: Россия, Москва, Гендриков переулок, дом 15, кв. 5, телефон: 2-35-71, день рождения: 19.07.1893\n"
     ]
    }
   ],
   "source": [
    "vlad.show_contact()"
   ]
  },
  {
   "cell_type": "code",
   "execution_count": 9,
   "metadata": {},
   "outputs": [
    {
     "name": "stdout",
     "output_type": "stream",
     "text": [
      "Владимир Маяковский — адрес: Россия, Москва, Гендриков переулок, дом 15, кв. 5, телефон: 2-35-71, день рождения: 19.07.1893\n"
     ]
    }
   ],
   "source": [
    "Contact.show_contact(vlad)"
   ]
  },
  {
   "cell_type": "code",
   "execution_count": 11,
   "metadata": {},
   "outputs": [
    {
     "name": "stdout",
     "output_type": "stream",
     "text": [
      "Контакт: Владимир Маяковский\n"
     ]
    }
   ],
   "source": [
    "print(vlad)"
   ]
  },
  {
   "cell_type": "code",
   "execution_count": 1,
   "metadata": {},
   "outputs": [],
   "source": [
    "from models.Planet import Planet"
   ]
  },
  {
   "cell_type": "code",
   "execution_count": 2,
   "metadata": {},
   "outputs": [
    {
     "name": "stdout",
     "output_type": "stream",
     "text": [
      "Планета Юпитер имеет площадь поверхности 61418738570.72667 кв.км.\n",
      "Средняя температура поверхности планеты: -162.4° по Фаренгейту.\n"
     ]
    }
   ],
   "source": [
    "jupiter = Planet('Юпитер', 69911, -108)\n",
    "jupiter.info()"
   ]
  },
  {
   "cell_type": "code",
   "execution_count": 1,
   "metadata": {},
   "outputs": [],
   "source": [
    "from models.User import User\n",
    "from models.Friend import Friend"
   ]
  },
  {
   "cell_type": "code",
   "execution_count": 2,
   "metadata": {},
   "outputs": [],
   "source": [
    "father = User(\"Дюма-отец\", \"+33 3 23 96 23 30\")\n",
    "son = Friend(\"Дюма-сын\", \"+33 3 23 96 23 30\")"
   ]
  },
  {
   "cell_type": "code",
   "execution_count": 3,
   "metadata": {},
   "outputs": [
    {
     "name": "stdout",
     "output_type": "stream",
     "text": [
      "Дюма-отец (+33 3 23 96 23 30)\n",
      "Имя: Дюма-сын || Телефон: +33 3 23 96 23 30 || Адрес: None\n"
     ]
    },
    {
     "data": {
      "text/plain": [
       "(None, None)"
      ]
     },
     "execution_count": 3,
     "metadata": {},
     "output_type": "execute_result"
    }
   ],
   "source": [
    "father.info(),\\\n",
    "    son.info()"
   ]
  },
  {
   "cell_type": "code",
   "execution_count": 7,
   "metadata": {},
   "outputs": [
    {
     "name": "stdout",
     "output_type": "stream",
     "text": [
      "Воробей носит одежду размера «S».\n",
      "Попугай ара носит одежду размера «XL» и разговаривает.\n"
     ]
    }
   ],
   "source": [
    "from models.Bird import Bird\n",
    "from models.Parrot import Parrot\n",
    "\n",
    "Bird('Воробей', 'S').info()\n",
    "Parrot('Попугай ара', 'XL', 'разговаривает').info()"
   ]
  },
  {
   "cell_type": "code",
   "execution_count": 8,
   "metadata": {},
   "outputs": [],
   "source": [
    "from models.City import City\n",
    "from models.Mountain import Mountain"
   ]
  },
  {
   "cell_type": "code",
   "execution_count": 9,
   "metadata": {},
   "outputs": [],
   "source": [
    "# эта функция печатает расстояние\n",
    "# между двумя любыми наследниками класса Point\n",
    "def how_far(geo_object_1, geo_object_2) -> None:\n",
    "    print(\n",
    "        f'От точки «{geo_object_1.name}» до точки «{geo_object_2.name}» — {geo_object_1.distance(geo_object_2)} км.')"
   ]
  },
  {
   "cell_type": "code",
   "execution_count": 12,
   "metadata": {},
   "outputs": [
    {
     "name": "stdout",
     "output_type": "stream",
     "text": [
      "City Москва, population 12615882.\n"
     ]
    }
   ],
   "source": [
    "moscow = City(55.7522200, 37.6155600, 'Москва', 12615882).info()\n",
    "everest = Mountain(27.98791, 86.92529, 'Эверест', 8848)\n",
    "chelyabinsk = City(55.154, 61.4291, 'Челябинск', 1200703)"
   ]
  },
  {
   "cell_type": "code",
   "execution_count": 11,
   "metadata": {},
   "outputs": [
    {
     "name": "stdout",
     "output_type": "stream",
     "text": [
      "От точки «Москва» до точки «Эверест» — 4960.292203587949 км.\n",
      "От точки «Москва» до точки «Челябинск» — 1495.6655965788932 км.\n"
     ]
    }
   ],
   "source": [
    "how_far(moscow, everest)\n",
    "how_far(moscow, chelyabinsk)"
   ]
  },
  {
   "cell_type": "code",
   "execution_count": 2,
   "metadata": {},
   "outputs": [],
   "source": [
    "from models.CodeReviewer import CodeReviewer\n",
    "from models.Curator import Curator\n",
    "from models.Mentor import Mentor\n",
    "from models.Student import Student"
   ]
  },
  {
   "cell_type": "code",
   "execution_count": 3,
   "metadata": {},
   "outputs": [
    {
     "name": "stdout",
     "output_type": "stream",
     "text": [
      "Марина, мне грустненько, что делать?\n",
      "Держись, всё получится. Хочешь видео с котиками?\n",
      "\n",
      "Ира, мне грустненько, что делать?\n",
      "Отдохни и возвращайся с вопросами по теории.\n",
      "\n",
      "Евгений, когда каникулы?\n",
      "Очень интересный вопрос! Не знаю.\n",
      "\n",
      "Евгений, что не так с моим проектом?\n",
      "О, вопрос про проект, это я люблю.\n",
      "\n",
      "Виталя, как устроиться на работу питонистом?\n",
      "Очень интересный вопрос! Не знаю.\n",
      "\n",
      "Ира, как устроиться работать питонистом?\n",
      "Сейчас расскажу.\n",
      "\n"
     ]
    }
   ],
   "source": [
    "student1 = Student('Тимофей')\n",
    "curator = Curator('Марина')\n",
    "mentor = Mentor('Ира')\n",
    "reviewer = CodeReviewer('Евгений')\n",
    "friend = User('Виталя')\n",
    "\n",
    "student1.ask_question(curator, 'мне грустненько, что делать?')\n",
    "student1.ask_question(mentor, 'мне грустненько, что делать?')\n",
    "student1.ask_question(reviewer, 'когда каникулы?')\n",
    "student1.ask_question(reviewer, 'что не так с моим проектом?')\n",
    "student1.ask_question(friend, 'как устроиться на работу питонистом?')\n",
    "student1.ask_question(mentor, 'как устроиться работать питонистом?')"
   ]
  },
  {
   "cell_type": "code",
   "execution_count": 4,
   "metadata": {},
   "outputs": [
    {
     "name": "stdout",
     "output_type": "stream",
     "text": [
      "Марина, мне грустненько, что делать?\n",
      "Держись, всё получится. Хочешь видео с котиками?\n",
      "\n",
      "Держись, всё получится. Хочешь видео с котиками?\n"
     ]
    }
   ],
   "source": [
    "student1.ask_question(curator, 'мне грустненько, что делать?')\n",
    "curator.answer_question('мне грустненько, что делать?')"
   ]
  },
  {
   "cell_type": "code",
   "execution_count": 5,
   "metadata": {},
   "outputs": [
    {
     "name": "stdout",
     "output_type": "stream",
     "text": [
      "In position-2\n"
     ]
    }
   ],
   "source": [
    "class Position_1:\n",
    "    def where(self) -> None:\n",
    "        print(\"In position-1\")\n",
    "\n",
    "class Position_2(Position_1):\n",
    "    def where(self) -> None:\n",
    "        print(\"In position-2\")\n",
    "\n",
    "class Position_3(Position_1):\n",
    "    def where(self) -> None:\n",
    "        print(\"In position-3\")\n",
    "\n",
    "class Position_4(Position_2, Position_3):\n",
    "        pass\n",
    "\n",
    "def main() -> None:\n",
    "    obj = Position_4()\n",
    "    obj.where() \n",
    "\n",
    "main()"
   ]
  },
  {
   "cell_type": "code",
   "execution_count": 6,
   "metadata": {},
   "outputs": [
    {
     "name": "stdout",
     "output_type": "stream",
     "text": [
      "blue\n",
      "red\n"
     ]
    }
   ],
   "source": [
    "from models.Vehicle import Vehicle\n",
    "\n",
    "\n",
    "if __name__ == \"__main__\":\n",
    "    car = Vehicle('blue', 5, 4)\n",
    "    print(car.color)\n",
    "\n",
    "    truck = Vehicle('red', 3, 6)\n",
    "    print(truck.color)"
   ]
  },
  {
   "cell_type": "code",
   "execution_count": 7,
   "metadata": {},
   "outputs": [
    {
     "name": "stdout",
     "output_type": "stream",
     "text": [
      "1 2\n"
     ]
    }
   ],
   "source": [
    "from models.Point2 import Point2\n",
    "\n",
    "\n",
    "inst_point = Point2()\n",
    "inst_point.x = 1\n",
    "inst_point.y = 2\n",
    "\n",
    "print(inst_point.x, inst_point.y)"
   ]
  },
  {
   "cell_type": "code",
   "execution_count": 8,
   "metadata": {},
   "outputs": [
    {
     "data": {
      "text/plain": [
       "'this class represent the Point'"
      ]
     },
     "execution_count": 8,
     "metadata": {},
     "output_type": "execute_result"
    }
   ],
   "source": [
    "inst_point.__doc__"
   ]
  },
  {
   "cell_type": "code",
   "execution_count": 9,
   "metadata": {},
   "outputs": [
    {
     "name": "stdout",
     "output_type": "stream",
     "text": [
      "Help on Point2 in module models.Point2 object:\n",
      "\n",
      "class Point2(builtins.object)\n",
      " |  this class represent the Point\n",
      " |  \n",
      " |  Data descriptors defined here:\n",
      " |  \n",
      " |  __dict__\n",
      " |      dictionary for instance variables (if defined)\n",
      " |  \n",
      " |  __weakref__\n",
      " |      list of weak references to the object (if defined)\n",
      "\n"
     ]
    }
   ],
   "source": [
    "help(inst_point)"
   ]
  }
 ],
 "metadata": {
  "kernelspec": {
   "display_name": ".envpy",
   "language": "python",
   "name": "python3"
  },
  "language_info": {
   "codemirror_mode": {
    "name": "ipython",
    "version": 3
   },
   "file_extension": ".py",
   "mimetype": "text/x-python",
   "name": "python",
   "nbconvert_exporter": "python",
   "pygments_lexer": "ipython3",
   "version": "3.11.4"
  },
  "orig_nbformat": 4
 },
 "nbformat": 4,
 "nbformat_minor": 2
}
