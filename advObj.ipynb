{
 "cells": [
  {
   "cell_type": "code",
   "execution_count": 3,
   "metadata": {},
   "outputs": [],
   "source": [
    "class DemoClass:\n",
    "    @classmethod\n",
    "    def class_method(cls) -> None:\n",
    "        print(f\"A class method from {cls.__name__}!\")"
   ]
  },
  {
   "cell_type": "code",
   "execution_count": 4,
   "metadata": {},
   "outputs": [
    {
     "name": "stdout",
     "output_type": "stream",
     "text": [
      "A class method from DemoClass!\n"
     ]
    }
   ],
   "source": [
    "DemoClass.class_method()"
   ]
  },
  {
   "cell_type": "code",
   "execution_count": 4,
   "metadata": {},
   "outputs": [],
   "source": [
    "class Bird:\n",
    "\n",
    "    def __init__(self, name, size) -> None:\n",
    "        self.name = name\n",
    "        self.size = size\n",
    "\n",
    "    class Bird_with_color():\n",
    "        def __init__(self, color):\n",
    "            self.color = color\n",
    "\n",
    "    @classmethod\n",
    "    def crt(cls, name, size) -> None:\n",
    "        cls.name = name\n",
    "        cls.size = size\n",
    "\n",
    "    @classmethod\n",
    "    def crt_colorful(cls, name, size, color) -> None:\n",
    "        cls.name = name\n",
    "        cls.size = size\n",
    "        cls.color = color\n",
    "\n",
    "    def info(cls) -> None:\n",
    "        print(f\"{cls.name} with size «{cls.size}».\")"
   ]
  },
  {
   "cell_type": "code",
   "execution_count": 5,
   "metadata": {},
   "outputs": [],
   "source": [
    "bob = Bird.crt('Parrot', 'small')"
   ]
  },
  {
   "cell_type": "code",
   "execution_count": 1,
   "metadata": {},
   "outputs": [],
   "source": [
    "class Page:\n",
    "    def __init__(self) -> None:\n",
    "        self.btns = self.Btns()\n",
    "\n",
    "    class Btns:\n",
    "        def __init__(self) -> None:\n",
    "            self.next = 'page'\n",
    "            self.input_name = 'name'\n",
    "\n",
    "        def fill_login(self):\n",
    "            self.input_name\n",
    "    \n",
    "    class NewForm():\n",
    "        pass\n",
    "    \n",
    "    def open_page(self):\n",
    "        self.btns.next"
   ]
  },
  {
   "cell_type": "code",
   "execution_count": 2,
   "metadata": {},
   "outputs": [],
   "source": [
    "page = Page()\n",
    "page.open_page()\n",
    "page.btns.fill_login()"
   ]
  }
 ],
 "metadata": {
  "kernelspec": {
   "display_name": ".envpy",
   "language": "python",
   "name": "python3"
  },
  "language_info": {
   "codemirror_mode": {
    "name": "ipython",
    "version": 3
   },
   "file_extension": ".py",
   "mimetype": "text/x-python",
   "name": "python",
   "nbconvert_exporter": "python",
   "pygments_lexer": "ipython3",
   "version": "3.11.5"
  },
  "orig_nbformat": 4
 },
 "nbformat": 4,
 "nbformat_minor": 2
}
