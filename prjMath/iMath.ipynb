{
 "cells": [
  {
   "cell_type": "code",
   "execution_count": 1,
   "metadata": {},
   "outputs": [],
   "source": [
    "from src.models.CountFromBy import CountFromBy"
   ]
  },
  {
   "cell_type": "code",
   "execution_count": 2,
   "metadata": {},
   "outputs": [],
   "source": [
    "a = CountFromBy(100, 10)"
   ]
  },
  {
   "cell_type": "code",
   "execution_count": 3,
   "metadata": {},
   "outputs": [
    {
     "data": {
      "text/plain": [
       "(100,\n",
       " None,\n",
       " 110,\n",
       " models.CountFromBy.CountFromBy,\n",
       " 2167808261520,\n",
       " '0x1f8bb70fd90')"
      ]
     },
     "execution_count": 3,
     "metadata": {},
     "output_type": "execute_result"
    }
   ],
   "source": [
    "a.val,\\\n",
    "    a.increase(),\\\n",
    "    a.val,\\\n",
    "    type(a),\\\n",
    "    id(a),\\\n",
    "    hex(id(a))"
   ]
  }
 ],
 "metadata": {
  "kernelspec": {
   "display_name": ".envpy",
   "language": "python",
   "name": "python3"
  },
  "language_info": {
   "codemirror_mode": {
    "name": "ipython",
    "version": 3
   },
   "file_extension": ".py",
   "mimetype": "text/x-python",
   "name": "python",
   "nbconvert_exporter": "python",
   "pygments_lexer": "ipython3",
   "version": "3.11.4"
  },
  "orig_nbformat": 4
 },
 "nbformat": 4,
 "nbformat_minor": 2
}
