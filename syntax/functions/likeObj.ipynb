{
 "cells": [
  {
   "cell_type": "code",
   "execution_count": null,
   "metadata": {},
   "outputs": [],
   "source": [
    "def create_person(name, age):\n",
    "    def get_name():\n",
    "        return name\n",
    "    \n",
    "    def get_age():\n",
    "        return age\n",
    "    \n",
    "    def set_name(new_name):\n",
    "        nonlocal name\n",
    "        name = new_name\n",
    "    \n",
    "    def set_age(new_age):\n",
    "        nonlocal age\n",
    "        age = new_age\n",
    "    \n",
    "    return {\n",
    "        'get_name': get_name,\n",
    "        'get_age': get_age,\n",
    "        'set_name': set_name,\n",
    "        'set_age': set_age\n",
    "    }\n",
    "\n",
    "# Example usage:\n",
    "person = create_person(\"Alice\", 30)\n",
    "print(person['get_name']())  # Output: Alice\n",
    "print(person['get_age']())   # Output: 30\n",
    "\n",
    "person['set_age'](35)\n",
    "print(person['get_age']())   # Output: 35"
   ]
  },
  {
   "cell_type": "code",
   "execution_count": 1,
   "metadata": {},
   "outputs": [
    {
     "name": "stdout",
     "output_type": "stream",
     "text": [
      "3\n"
     ]
    }
   ],
   "source": [
    "from collections import namedtuple\n",
    "\n",
    "\n",
    "def init_count():\n",
    "    count = 0\n",
    "\n",
    "    def add(amount) -> None:\n",
    "        nonlocal count\n",
    "        count += amount\n",
    "\n",
    "    def get_count():\n",
    "        return count\n",
    "    \n",
    "    Count = namedtuple('Count', ['add', 'get_count'])\n",
    "\n",
    "    return Count(add, get_count)\n",
    "\n",
    "\n",
    "# run\n",
    "\n",
    "count = init_count()\n",
    "count.add(1)\n",
    "count.add(2)\n",
    "\n",
    "print(count.get_count())"
   ]
  }
 ],
 "metadata": {
  "kernelspec": {
   "display_name": ".envpy",
   "language": "python",
   "name": "python3"
  },
  "language_info": {
   "codemirror_mode": {
    "name": "ipython",
    "version": 3
   },
   "file_extension": ".py",
   "mimetype": "text/x-python",
   "name": "python",
   "nbconvert_exporter": "python",
   "pygments_lexer": "ipython3",
   "version": "3.12.2"
  }
 },
 "nbformat": 4,
 "nbformat_minor": 2
}
