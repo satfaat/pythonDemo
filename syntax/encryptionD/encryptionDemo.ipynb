{
 "cells": [
  {
   "cell_type": "code",
   "execution_count": 1,
   "metadata": {},
   "outputs": [],
   "source": [
    "from hashlib import md5"
   ]
  },
  {
   "cell_type": "code",
   "execution_count": 5,
   "metadata": {},
   "outputs": [],
   "source": [
    "\n",
    "from hmac import new as hmac_new\n",
    "from hashlib import sha256 as hashlib_sha256\n",
    "from base64 import urlsafe_b64encode"
   ]
  },
  {
   "cell_type": "code",
   "execution_count": 2,
   "metadata": {},
   "outputs": [],
   "source": [
    "msg = \"Some long message\""
   ]
  },
  {
   "cell_type": "code",
   "execution_count": 4,
   "metadata": {},
   "outputs": [
    {
     "data": {
      "text/plain": [
       "'d7f5c4cbf18ada2b25e65a42d49ab76d'"
      ]
     },
     "execution_count": 4,
     "metadata": {},
     "output_type": "execute_result"
    }
   ],
   "source": [
    "md5_hash: str = md5(msg.encode(\"utf-8\")).hexdigest()\n",
    "md5_hash"
   ]
  },
  {
   "cell_type": "code",
   "execution_count": 6,
   "metadata": {},
   "outputs": [],
   "source": [
    "SECRET_KEY = \"somekey\""
   ]
  },
  {
   "cell_type": "code",
   "execution_count": 7,
   "metadata": {},
   "outputs": [
    {
     "data": {
      "text/plain": [
       "'OzBR3AMDRDOaKe4XZZeYm5A8Tw3IFi8fy18HF3hfSvA='"
      ]
     },
     "execution_count": 7,
     "metadata": {},
     "output_type": "execute_result"
    }
   ],
   "source": [
    "signature: str = urlsafe_b64encode(\n",
    "    hmac_new(\n",
    "        SECRET_KEY.encode(\"utf-8\"),\n",
    "        msg=msg.encode(\"utf-8\"),\n",
    "        digestmod=hashlib_sha256,\n",
    "    ).digest()\n",
    ").decode(\"utf-8\")\n",
    "\n",
    "signature"
   ]
  }
 ],
 "metadata": {
  "kernelspec": {
   "display_name": "env-jnb",
   "language": "python",
   "name": "python3"
  },
  "language_info": {
   "codemirror_mode": {
    "name": "ipython",
    "version": 3
   },
   "file_extension": ".py",
   "mimetype": "text/x-python",
   "name": "python",
   "nbconvert_exporter": "python",
   "pygments_lexer": "ipython3",
   "version": "3.11.0"
  },
  "orig_nbformat": 4
 },
 "nbformat": 4,
 "nbformat_minor": 2
}
