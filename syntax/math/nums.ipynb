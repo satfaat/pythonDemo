{
 "cells": [
  {
   "cell_type": "code",
   "execution_count": 13,
   "metadata": {},
   "outputs": [
    {
     "name": "stdout",
     "output_type": "stream",
     "text": [
      "<class 'int'>\n",
      "2589\n",
      "903\n"
     ]
    },
    {
     "data": {
      "text/plain": [
       "79031112233"
      ]
     },
     "execution_count": 13,
     "metadata": {},
     "output_type": "execute_result"
    }
   ],
   "source": [
    "def what(what):\n",
    "    return type(what)\n",
    "\n",
    "def is_number(what):\n",
    "    try:\n",
    "        return int(what)\n",
    "    except ValueError:\n",
    "        print(\"input phone number\")\n",
    "\n",
    "print(what(25))\n",
    "print(int(2589))\n",
    "print(str(89039483495)[1:4])\n",
    "\n",
    "is_number(79031112233)\n"
   ]
  },
  {
   "cell_type": "code",
   "execution_count": 9,
   "metadata": {},
   "outputs": [
    {
     "name": "stdout",
     "output_type": "stream",
     "text": [
      "True\n",
      "False\n"
     ]
    }
   ],
   "source": [
    "def is_prime(num):\n",
    "    for n in range(2,int(num**0.5)+1):\n",
    "        if num%n==0:\n",
    "            return False\n",
    "    return True\n",
    "print(is_prime(7))\n",
    "print(is_prime(8))"
   ]
  },
  {
   "cell_type": "code",
   "execution_count": 15,
   "metadata": {},
   "outputs": [
    {
     "name": "stdout",
     "output_type": "stream",
     "text": [
      "10000000000\n",
      "100000000000\n"
     ]
    }
   ],
   "source": [
    "print(pow(10,10))\n",
    "print(pow(10, 11))"
   ]
  },
  {
   "cell_type": "code",
   "execution_count": 20,
   "metadata": {},
   "outputs": [
    {
     "name": "stdout",
     "output_type": "stream",
     "text": [
      "0\n",
      "6.0\n",
      "6\n",
      "13 is prime\n"
     ]
    }
   ],
   "source": [
    "print(12%2)\n",
    "print(12/2)\n",
    "print(12//2)\n",
    "\n",
    "def divisors(num):\n",
    "    nums = []\n",
    "    for n in range(2, num-1):\n",
    "        if num%n == 0:\n",
    "            nums.append(n)\n",
    "    #if len(nums) == 0:\n",
    "    #    nums.append(num)\n",
    "    return nums if nums else f'{num} is prime'\n",
    "\n",
    "def divisors_1(num):\n",
    "    nums = [n for n in range(2,num) if num%n == 0]\n",
    "    if len(nums) == 0:\n",
    "        return f'{num} is prime'\n",
    "    return nums\n",
    "\n",
    "def divisors_2(num):\n",
    "    return [n for n in range(2, num) if not num % n] or f'{num} is prime'\n",
    "\n",
    "print(divisors_1(13))"
   ]
  },
  {
   "cell_type": "code",
   "execution_count": 52,
   "metadata": {},
   "outputs": [
    {
     "name": "stdout",
     "output_type": "stream",
     "text": [
      "42 -9\n"
     ]
    }
   ],
   "source": [
    "#nums = [n for n in range(1,6)]\n",
    "nums = \"8 3 -5 42 -1 0 0 -9 4 7 4 -4\"\n",
    "\n",
    "def high_and_low(nums):\n",
    "    nums = nums.split(\" \")\n",
    "    max_num = int(nums[0])\n",
    "    min_num = int(nums[0])\n",
    "    for n in nums:\n",
    "        if int(max_num) < int(n):\n",
    "            max_num = n\n",
    "        elif int(min_num) > int(n):\n",
    "            min_num = n\n",
    "    return f\"{max_num} {min_num}\"\n",
    "\n",
    "def high_and_low_1(nums): #z.\n",
    "    nn = [int(s) for s in nums.split(\" \")]\n",
    "    return f'{max(nn)} {min(nn)}'\n",
    "\n",
    "print(high_and_low_1(nums))\n",
    "#print(n for n in nums)\n",
    "#print(type(int(nums.split(\" \")[0])))\n",
    "\n",
    "# for n in nums.split(\" \"):\n",
    "#     print(type(int(n)))\n",
    "    \n"
   ]
  },
  {
   "cell_type": "code",
   "execution_count": 38,
   "metadata": {},
   "outputs": [
    {
     "name": "stdout",
     "output_type": "stream",
     "text": [
      "11\n",
      "[1, 0, 1, 1]\n",
      "11\n"
     ]
    }
   ],
   "source": [
    "# 1 2 4 8 16 32 64 128\n",
    "bin: list[int] = [1, 0, 1, 1]\n",
    "bin_2: list[int] = [1, 1, 1, 1, 1, 1, 1, 1,]\n",
    "\n",
    "\n",
    "def binary_array_to_number(arr) -> int:\n",
    "    size = 1\n",
    "    for n in range(len(arr)-1):\n",
    "        size *=2 \n",
    "    dec = 0\n",
    "\n",
    "    for v in arr:\n",
    "        if v == 1:\n",
    "            dec += size\n",
    "        size //=2\n",
    "    return dec\n",
    "\n",
    "def binary_array_to_number_1(arr) -> int:\n",
    "    return int(''.join(str(n) for n in arr), 2)\n",
    "\n",
    "print(binary_array_to_number_1(bin))\n",
    "\n",
    "str_1: str = ''.join(str(n) for n in bin)\n",
    "print(int(str_1, 2))\n"
   ]
  }
 ],
 "metadata": {
  "interpreter": {
   "hash": "04183954aa68d0139d33e752fbc5395cdfee8e232626fd184685add8210a12bf"
  },
  "kernelspec": {
   "display_name": "Python 3.10.0 ('.env_jupyter': venv)",
   "language": "python",
   "name": "python3"
  },
  "language_info": {
   "codemirror_mode": {
    "name": "ipython",
    "version": 3
   },
   "file_extension": ".py",
   "mimetype": "text/x-python",
   "name": "python",
   "nbconvert_exporter": "python",
   "pygments_lexer": "ipython3",
   "version": "3.10.0"
  },
  "orig_nbformat": 4
 },
 "nbformat": 4,
 "nbformat_minor": 2
}
