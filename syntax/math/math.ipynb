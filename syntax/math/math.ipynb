{
 "cells": [
  {
   "cell_type": "code",
   "execution_count": null,
   "metadata": {},
   "outputs": [],
   "source": []
  },
  {
   "cell_type": "code",
   "execution_count": 1,
   "metadata": {},
   "outputs": [
    {
     "name": "stdout",
     "output_type": "stream",
     "text": [
      "60940.0\n"
     ]
    }
   ],
   "source": [
    "def restaurant_bill(*num, percent):\n",
    "    sums: tuple = num\n",
    "    summ: int = sum(sums)\n",
    "    coef = summ * percent/100\n",
    "    total = summ + coef\n",
    "    return total\n",
    "\n",
    "\n",
    "print(restaurant_bill(12_000, 43_400, percent=10)) "
   ]
  },
  {
   "cell_type": "code",
   "execution_count": 39,
   "metadata": {},
   "outputs": [
    {
     "data": {
      "text/plain": [
       "['2', '7', '9', '0', '1', '0', '1', '0', '1', '0', '0', '1']"
      ]
     },
     "execution_count": 39,
     "metadata": {},
     "output_type": "execute_result"
    }
   ],
   "source": [
    "arr_raw_1 = '279010101001'\n",
    "arr_list = list(arr_raw_1)\n",
    "arr_list"
   ]
  },
  {
   "cell_type": "code",
   "execution_count": 40,
   "metadata": {},
   "outputs": [
    {
     "data": {
      "text/plain": [
       "[2, 7, 9, 0, 1, 0, 1, 0, 1, 0, 0, 1]"
      ]
     },
     "execution_count": 40,
     "metadata": {},
     "output_type": "execute_result"
    }
   ],
   "source": [
    "[int(x) for x in arr_list]"
   ]
  },
  {
   "cell_type": "code",
   "execution_count": 41,
   "metadata": {},
   "outputs": [
    {
     "data": {
      "text/plain": [
       "([(1, 2),\n",
       "  (2, 7),\n",
       "  (3, 9),\n",
       "  (4, 0),\n",
       "  (5, 1),\n",
       "  (6, 0),\n",
       "  (7, 1),\n",
       "  (8, 0),\n",
       "  (9, 1),\n",
       "  (10, 0),\n",
       "  (11, 0),\n",
       "  (12, 1)],\n",
       " 12)"
      ]
     },
     "execution_count": 41,
     "metadata": {},
     "output_type": "execute_result"
    }
   ],
   "source": [
    "list2 = list(enumerate([int(x) for x in arr_list], 1))\n",
    "list2, \\\n",
    "len(list2)"
   ]
  },
  {
   "cell_type": "code",
   "execution_count": 42,
   "metadata": {},
   "outputs": [
    {
     "data": {
      "text/plain": [
       "([2, 14, 27, 0, 5, 0, 7, 0, 9, 0, 0, 12], 6.333333333333333)"
      ]
     },
     "execution_count": 42,
     "metadata": {},
     "output_type": "execute_result"
    }
   ],
   "source": [
    "res1 = []\n",
    "for tmp_set in list2:\n",
    "    a, b = tmp_set\n",
    "    res1.append(a*b)\n",
    "\n",
    "res1, \\\n",
    "sum(res1)/12"
   ]
  },
  {
   "cell_type": "code",
   "execution_count": 48,
   "metadata": {},
   "outputs": [
    {
     "data": {
      "text/plain": [
       "[[4, 14, 27, 4, 10, 0, 7, 0, 9, 0, 0, 12], 7.25]"
      ]
     },
     "execution_count": 48,
     "metadata": {},
     "output_type": "execute_result"
    }
   ],
   "source": [
    "def seq(arr):\n",
    "    arr_int = list(enumerate([int(x) for x in arr], 1))\n",
    "    res = []\n",
    "    for tmp_set in arr_int:\n",
    "        a, b = tmp_set\n",
    "        res.append(a*b)\n",
    "    return [res, sum(res)/12]\n",
    "\n",
    "seq('479120101001')"
   ]
  }
 ],
 "metadata": {
  "kernelspec": {
   "display_name": "env-jnb",
   "language": "python",
   "name": "python3"
  },
  "language_info": {
   "codemirror_mode": {
    "name": "ipython",
    "version": 3
   },
   "file_extension": ".py",
   "mimetype": "text/x-python",
   "name": "python",
   "nbconvert_exporter": "python",
   "pygments_lexer": "ipython3",
   "version": "3.11.0"
  },
  "orig_nbformat": 4
 },
 "nbformat": 4,
 "nbformat_minor": 2
}
