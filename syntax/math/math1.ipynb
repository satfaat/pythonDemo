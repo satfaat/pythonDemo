{
 "cells": [
  {
   "cell_type": "markdown",
   "metadata": {},
   "source": [
    "## math operators\n",
    "- aka Математические операторы:"
   ]
  },
  {
   "cell_type": "markdown",
   "metadata": {},
   "source": [
    "\n",
    "operator | operation desc | Example | Result\n",
    ":--:|--|:--:|:--:\n",
    "**    | exponentiation aka Возведение в степень |    2 ** 3 | 8\n",
    "%    |    Деление по модулю / остаток    |    22 % 8 | 6\n",
    "//    |    Целочисленное деление    |    22 // 8 | 2\n",
    "/    | division aka Деление |    22 / 8 | 2,75\n",
    "•    | multiplication aka Умножение |    3 * 5 | 15\n",
    "**-**    | subtraction aka Вычитание |    5 - 2 | 3\n",
    "**+**    | addition aka Сложение    |    2 + 2 | 4\n"
   ]
  },
  {
   "cell_type": "code",
   "execution_count": null,
   "metadata": {},
   "outputs": [],
   "source": []
  }
 ],
 "metadata": {
  "kernelspec": {
   "display_name": "Python 3.10.0 ('.env_jupyter': venv)",
   "language": "python",
   "name": "python3"
  },
  "language_info": {
   "name": "python",
   "version": "3.10.0"
  },
  "orig_nbformat": 4,
  "vscode": {
   "interpreter": {
    "hash": "acd7119d548134a99e6f9d1f29df8db3a357202429f0f56f73b34e23b90bc877"
   }
  }
 },
 "nbformat": 4,
 "nbformat_minor": 2
}
