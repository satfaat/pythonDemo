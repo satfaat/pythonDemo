{
 "cells": [
  {
   "cell_type": "code",
   "execution_count": null,
   "metadata": {},
   "outputs": [],
   "source": [
    "# 1. Lists to Dictionaries:\n",
    "\n",
    "# Initially using lists for simple data storage\n",
    "students = [\"Alice\", \"Bob\", \"Charlie\"]\n",
    "\n",
    "# Evolving to dictionaries for key-value pairs\n",
    "student_grades = {\"Alice\": 85, \"Bob\": 92, \"Charlie\": 78}"
   ]
  },
  {
   "cell_type": "code",
   "execution_count": null,
   "metadata": {},
   "outputs": [],
   "source": [
    "# 2. Using Sets for Uniqueness:\n",
    "\n",
    "# Initially using lists to store unique elements\n",
    "unique_numbers = [1, 2, 3, 4, 1, 2, 3]\n",
    "\n",
    "# Evolving to sets for automatic uniqueness\n",
    "unique_numbers = {1, 2, 3, 4}\n"
   ]
  },
  {
   "cell_type": "code",
   "execution_count": null,
   "metadata": {},
   "outputs": [],
   "source": [
    "# 3. Moving to List Comprehensions:\n",
    "\n",
    "# Initially using loops to create lists\n",
    "squares = []\n",
    "for i in range(1, 6):\n",
    "    squares.append(i * i)\n",
    "    \n",
    "# Evolving to list comprehensions for concise code\n",
    "squares: list[int] = [i * i for i in range(1, 6)]\n"
   ]
  },
  {
   "cell_type": "code",
   "execution_count": null,
   "metadata": {},
   "outputs": [],
   "source": [
    "# 4. Introduction of Generators for Memory Efficiency:\n",
    "\n",
    "# Initially using list comprehensions for large datasets\n",
    "from typing import Generator\n",
    "\n",
    "\n",
    "squares: list[int] = [i * i for i in range(1, 1000000)]\n",
    "\n",
    "# Evolving to generators for lazy evaluation and memory efficiency\n",
    "squares_generator: Generator[int, None, None] = (i * i for i in range(1, 1000000))\n"
   ]
  },
  {
   "cell_type": "code",
   "execution_count": null,
   "metadata": {},
   "outputs": [],
   "source": [
    "# 5. Utilizing Collections Module for Specialized Data Structures:\n",
    "\n",
    "# Initially using basic data structures\n",
    "from collections import Counter\n",
    "\n",
    "# Evolving to specialized data structures\n",
    "word_counts = Counter([\"apple\", \"banana\", \"apple\", \"orange\", \"banana\"])\n"
   ]
  },
  {
   "cell_type": "code",
   "execution_count": null,
   "metadata": {},
   "outputs": [],
   "source": [
    "# 6. Introduction of NamedTuple for Readability:\n",
    "\n",
    "# Initially using tuples for simple data storage\n",
    "point = (10, 20)\n",
    "\n",
    "# Evolving to named tuples for better readability\n",
    "from collections import namedtuple\n",
    "Point = namedtuple(\"Point\", [\"x\", \"y\"])\n",
    "point = Point(x=10, y=20)\n"
   ]
  },
  {
   "cell_type": "code",
   "execution_count": null,
   "metadata": {},
   "outputs": [],
   "source": [
    "# 7. Moving to OrderedDict for Ordered Collections:\n",
    "\n",
    "# Initially using dictionaries with no guaranteed order\n",
    "student_grades = {\"Alice\": 85, \"Bob\": 92, \"Charlie\": 78}\n",
    "\n",
    "# Evolving to OrderedDict for ordered collections\n",
    "from collections import OrderedDict\n",
    "student_grades_ordered = OrderedDict({\"Alice\": 85, \"Bob\": 92, \"Charlie\": 78})"
   ]
  }
 ],
 "metadata": {
  "language_info": {
   "name": "python"
  }
 },
 "nbformat": 4,
 "nbformat_minor": 2
}
