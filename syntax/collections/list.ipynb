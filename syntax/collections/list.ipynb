{
 "cells": [
  {
   "attachments": {},
   "cell_type": "markdown",
   "metadata": {},
   "source": [
    "## List aka array\n",
    "\n",
    "list used to represent a stack\n",
    "used to represent a queue\n",
    "\n",
    "A set is an unordered collection unique items. A list is an ordered collection of non-unique items\n",
    "\n",
    "Lists are mutable, meaning you can change the data that is inside them at any time. Tuples are immutable, meaning you cannot change the data that is inside them once you have created the tuple"
   ]
  },
  {
   "cell_type": "code",
   "execution_count": 14,
   "metadata": {},
   "outputs": [],
   "source": [
    "import math\n",
    "from collections import namedtuple"
   ]
  },
  {
   "cell_type": "code",
   "execution_count": 2,
   "metadata": {},
   "outputs": [
    {
     "data": {
      "text/plain": [
       "[2, 3]"
      ]
     },
     "execution_count": 2,
     "metadata": {},
     "output_type": "execute_result"
    }
   ],
   "source": [
    "my_list: list[int] = [1,2,3]\n",
    "my_list.pop(0)\n",
    "my_list"
   ]
  },
  {
   "cell_type": "code",
   "execution_count": 3,
   "metadata": {},
   "outputs": [
    {
     "data": {
      "text/plain": [
       "[(2019, 'Freshman'), (2020, 'Sophomore'), (2021, 'Junior'), (2022, 'Senior')]"
      ]
     },
     "execution_count": 3,
     "metadata": {},
     "output_type": "execute_result"
    }
   ],
   "source": [
    "def ls() -> list[tuple[int, str]]:    \n",
    "    college_years: list[str] = ['Freshman', 'Sophomore', 'Junior', 'Senior']\n",
    "    return list(enumerate(college_years, 2019))\n",
    "\n",
    "ls()"
   ]
  },
  {
   "cell_type": "code",
   "execution_count": 5,
   "metadata": {},
   "outputs": [
    {
     "data": {
      "text/plain": [
       "[3.14, 12.57, 28.27]"
      ]
     },
     "execution_count": 5,
     "metadata": {},
     "output_type": "execute_result"
    }
   ],
   "source": [
    "# It applies a function to each item in an iterable and returns the value of that function\n",
    "\n",
    "radius: list[int] = [1,2,3]\n",
    "area = list(map(lambda x: round(math.pi*(x**2), 2), radius))\n",
    "area"
   ]
  },
  {
   "cell_type": "code",
   "execution_count": 10,
   "metadata": {},
   "outputs": [
    {
     "data": {
      "text/plain": [
       "[('Apples', 5, 1.5), ('Oranges', 3, 2.25), ('Bananas', 4, 0.89)]"
      ]
     },
     "execution_count": 10,
     "metadata": {},
     "output_type": "execute_result"
    }
   ],
   "source": [
    "fruits: list[str] = ['Apples', 'Oranges', 'Bananas']\n",
    "quantities: list[int] = [5, 3, 4]\n",
    "prices: list[float] = [1.50, 2.25, 0.89]\n",
    "\n",
    "def demo_list1():\n",
    "    i = 0\n",
    "    output = []\n",
    "    for fruit in fruits:\n",
    "        temp_qty: int = quantities[i]\n",
    "        temp_price: float = prices[i]\n",
    "        output.append((fruit, temp_qty, temp_price))\n",
    "        i += 1\n",
    "    return output\n",
    "demo_list1()\n"
   ]
  },
  {
   "cell_type": "code",
   "execution_count": 13,
   "metadata": {},
   "outputs": [
    {
     "data": {
      "text/plain": [
       "<zip at 0x1f4f8f1c0c0>"
      ]
     },
     "execution_count": 13,
     "metadata": {},
     "output_type": "execute_result"
    }
   ],
   "source": [
    "def demo_list2():\n",
    "    groceries = zip(fruits, quantities, prices)\n",
    "    return groceries\n",
    "\n",
    "demo_list2()"
   ]
  },
  {
   "cell_type": "code",
   "execution_count": 15,
   "metadata": {},
   "outputs": [
    {
     "data": {
      "text/plain": [
       "Point(x=100, y=200)"
      ]
     },
     "execution_count": 15,
     "metadata": {},
     "output_type": "execute_result"
    }
   ],
   "source": [
    "Point = namedtuple('Point',['x','y'])\n",
    "point = Point(100, 200)\n",
    "point"
   ]
  },
  {
   "cell_type": "code",
   "execution_count": 17,
   "metadata": {},
   "outputs": [
    {
     "name": "stdout",
     "output_type": "stream",
     "text": [
      "(100, 200)\n"
     ]
    }
   ],
   "source": [
    "# unpacking\n",
    "\n",
    "x, y = point\n",
    "print(f'({x}, {y})')"
   ]
  },
  {
   "cell_type": "code",
   "execution_count": 18,
   "metadata": {},
   "outputs": [
    {
     "name": "stdout",
     "output_type": "stream",
     "text": [
      "100\n",
      "200\n"
     ]
    }
   ],
   "source": [
    "for coordinate in point:\n",
    "    print(coordinate)"
   ]
  },
  {
   "cell_type": "code",
   "execution_count": 22,
   "metadata": {},
   "outputs": [
    {
     "data": {
      "text/plain": [
       "['Apples', 'Oranges', 'Bananas']"
      ]
     },
     "execution_count": 22,
     "metadata": {},
     "output_type": "execute_result"
    }
   ],
   "source": [
    "fruits: dict[str, int] = {'Apples': 5, 'Oranges': 3, 'Bananas': 4}\n",
    "fruit_names: list[str] = [x for x in fruits.keys()]\n",
    "fruit_names"
   ]
  }
 ],
 "metadata": {
  "kernelspec": {
   "display_name": "env-jnb",
   "language": "python",
   "name": "python3"
  },
  "language_info": {
   "codemirror_mode": {
    "name": "ipython",
    "version": 3
   },
   "file_extension": ".py",
   "mimetype": "text/x-python",
   "name": "python",
   "nbconvert_exporter": "python",
   "pygments_lexer": "ipython3",
   "version": "3.11.0"
  },
  "orig_nbformat": 4
 },
 "nbformat": 4,
 "nbformat_minor": 2
}
