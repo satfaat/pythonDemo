{
 "cells": [
  {
   "cell_type": "code",
   "execution_count": null,
   "metadata": {},
   "outputs": [],
   "source": [
    "# 1. Document Your Code with Docstrings:\n",
    "\n",
    "def add(x, y):\n",
    "    \"\"\"Return the sum of two numbers.\"\"\"\n",
    "    return x + y"
   ]
  },
  {
   "cell_type": "code",
   "execution_count": null,
   "metadata": {},
   "outputs": [],
   "source": [
    "# 2. Prefer List Comprehensions Over map and filter:\n",
    "\n",
    "# Bad\n",
    "squares = list(map(lambda x: x * x, range(10)))\n",
    "\n",
    "# Good\n",
    "squares = [x * x for x in range(10)]"
   ]
  },
  {
   "cell_type": "code",
   "execution_count": null,
   "metadata": {},
   "outputs": [],
   "source": [
    "# 3. Use enumerate for Iterating Over Indices and Values:\n",
    "\n",
    "# Bad\n",
    "fruits = [\"apple\", \"banana\", \"orange\"]\n",
    "for i in range(len(fruits)):\n",
    "    print(i, fruits[i])\n",
    "\n",
    "# Good\n",
    "fruits = [\"apple\", \"banana\", \"orange\"]\n",
    "for i, fruit in enumerate(fruits):\n",
    "    print(i, fruit)"
   ]
  },
  {
   "cell_type": "code",
   "execution_count": null,
   "metadata": {},
   "outputs": [],
   "source": [
    "# 4. Handle Exceptions Gracefully:\n",
    "\n",
    "# Bad\n",
    "try:\n",
    "    result = 10 / 0\n",
    "except:\n",
    "    print(\"An error occurred\")\n",
    "\n",
    "# Good\n",
    "try:\n",
    "    result = 10 / 0\n",
    "except ZeroDivisionError as e:\n",
    "    print(\"Error:\", e)"
   ]
  },
  {
   "cell_type": "code",
   "execution_count": null,
   "metadata": {},
   "outputs": [],
   "source": [
    "# 5. Use List Slicing for Subsetting Lists:\n",
    "\n",
    "# Bad\n",
    "numbers = [1, 2, 3, 4, 5]\n",
    "even_numbers = []\n",
    "for num in numbers:\n",
    "    if num % 2 == 0:\n",
    "        even_numbers.append(num)\n",
    "\n",
    "# Good\n",
    "numbers = [1, 2, 3, 4, 5]\n",
    "even_numbers = numbers[1::2]"
   ]
  },
  {
   "cell_type": "code",
   "execution_count": null,
   "metadata": {},
   "outputs": [],
   "source": [
    "# 6. Avoid Using Mutable Default Arguments:\n",
    "\n",
    "# Bad\n",
    "def add_to_list(value, my_list=[]):\n",
    "    my_list.append(value)\n",
    "    return my_list\n",
    "\n",
    "# Good\n",
    "def add_to_list(value, my_list=None):\n",
    "    if my_list is None:\n",
    "        my_list = []\n",
    "    my_list.append(value)\n",
    "    return my_list"
   ]
  },
  {
   "cell_type": "code",
   "execution_count": null,
   "metadata": {},
   "outputs": [],
   "source": [
    "# 7. Use with Statement for Resource Management:\n",
    "\n",
    "# Bad\n",
    "file = open(\"example.txt\", \"r\")\n",
    "content = file.read()\n",
    "file.close()\n",
    "\n",
    "# Good\n",
    "with open(\"example.txt\", \"r\") as file:\n",
    "    content = file.read()"
   ]
  },
  {
   "cell_type": "code",
   "execution_count": null,
   "metadata": {},
   "outputs": [],
   "source": [
    "# 8. Use if __name__ == '__main__': to Protect Code Execution:\n",
    "\n",
    "def main():\n",
    "    # Main logic here\n",
    "    pass\n",
    "\n",
    "if __name__ == \"__main__\":\n",
    "    main()"
   ]
  }
 ],
 "metadata": {
  "language_info": {
   "name": "python"
  }
 },
 "nbformat": 4,
 "nbformat_minor": 2
}
