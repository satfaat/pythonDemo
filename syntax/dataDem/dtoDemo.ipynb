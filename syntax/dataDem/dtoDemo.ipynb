{
 "cells": [
  {
   "cell_type": "code",
   "execution_count": 1,
   "metadata": {},
   "outputs": [],
   "source": [
    "from typing import NamedTuple"
   ]
  },
  {
   "cell_type": "code",
   "execution_count": 2,
   "metadata": {},
   "outputs": [],
   "source": [
    "class AddressDTO(NamedTuple):\n",
    "    country: str\n",
    "    street: str\n",
    "\n",
    "\n",
    "class ContactDTO(NamedTuple):\n",
    "    contact_type: str\n",
    "    email: str\n",
    "\n",
    "\n",
    "class Person(NamedTuple):\n",
    "    first_name: str\n",
    "    age: int\n",
    "    address: AddressDTO\n",
    "    contact: ContactDTO\n",
    "    # AddressDTO: NamedTuple\n",
    "    # ContactDTO: NamedTuple"
   ]
  },
  {
   "cell_type": "code",
   "execution_count": 3,
   "metadata": {},
   "outputs": [],
   "source": [
    "seth = Person(\n",
    "    'Seth',\n",
    "    130,\n",
    "    AddressDTO(\n",
    "        'USA',\n",
    "        'Alabama, 101'\n",
    "    ),\n",
    "    ContactDTO(\n",
    "        'actual',\n",
    "        'usa@mail.uk'\n",
    "    )\n",
    "    \n",
    ")"
   ]
  },
  {
   "cell_type": "code",
   "execution_count": 4,
   "metadata": {},
   "outputs": [
    {
     "data": {
      "text/plain": [
       "['Seth',\n",
       " 130,\n",
       " AddressDTO(country='USA', street='Alabama, 101'),\n",
       " ContactDTO(contact_type='actual', email='usa@mail.uk')]"
      ]
     },
     "execution_count": 4,
     "metadata": {},
     "output_type": "execute_result"
    }
   ],
   "source": [
    "seth_fields = []\n",
    "for field in seth:\n",
    "    seth_fields.append(field)\n",
    "\n",
    "seth_fields"
   ]
  },
  {
   "cell_type": "code",
   "execution_count": 5,
   "metadata": {},
   "outputs": [
    {
     "data": {
      "text/plain": [
       "Person(first_name='Seth', age=130, address=AddressDTO(country='USA', street='Alabama, 101'), contact=ContactDTO(contact_type='actual', email='usa@mail.uk'))"
      ]
     },
     "execution_count": 5,
     "metadata": {},
     "output_type": "execute_result"
    }
   ],
   "source": [
    "seth"
   ]
  },
  {
   "cell_type": "code",
   "execution_count": 6,
   "metadata": {},
   "outputs": [
    {
     "data": {
      "text/plain": [
       "130"
      ]
     },
     "execution_count": 6,
     "metadata": {},
     "output_type": "execute_result"
    }
   ],
   "source": [
    "seth.age"
   ]
  },
  {
   "cell_type": "code",
   "execution_count": 7,
   "metadata": {},
   "outputs": [
    {
     "data": {
      "text/plain": [
       "'USA'"
      ]
     },
     "execution_count": 7,
     "metadata": {},
     "output_type": "execute_result"
    }
   ],
   "source": [
    "seth.address.country"
   ]
  },
  {
   "cell_type": "code",
   "execution_count": 8,
   "metadata": {},
   "outputs": [
    {
     "data": {
      "text/plain": [
       "'actual'"
      ]
     },
     "execution_count": 8,
     "metadata": {},
     "output_type": "execute_result"
    }
   ],
   "source": [
    "seth.contact.contact_type"
   ]
  },
  {
   "cell_type": "code",
   "execution_count": 9,
   "metadata": {},
   "outputs": [],
   "source": [
    "from pydantic import BaseModel"
   ]
  },
  {
   "cell_type": "code",
   "execution_count": 10,
   "metadata": {},
   "outputs": [],
   "source": [
    "class UserDTO(BaseModel):\n",
    "    name: str\n",
    "    login_name: str\n",
    "    password: str"
   ]
  },
  {
   "cell_type": "code",
   "execution_count": 11,
   "metadata": {},
   "outputs": [],
   "source": [
    "noob = UserDTO(\n",
    "    name=\"Anton\",\n",
    "    login_name=\"noob\",\n",
    "    password=\"noob\"\n",
    ").model_dump()"
   ]
  },
  {
   "cell_type": "code",
   "execution_count": 12,
   "metadata": {},
   "outputs": [
    {
     "data": {
      "text/plain": [
       "{'name': 'Anton', 'login_name': 'noob', 'password': 'noob'}"
      ]
     },
     "execution_count": 12,
     "metadata": {},
     "output_type": "execute_result"
    }
   ],
   "source": [
    "noob"
   ]
  },
  {
   "cell_type": "code",
   "execution_count": 14,
   "metadata": {},
   "outputs": [
    {
     "data": {
      "text/plain": [
       "'Anton'"
      ]
     },
     "execution_count": 14,
     "metadata": {},
     "output_type": "execute_result"
    }
   ],
   "source": [
    "noob['name']"
   ]
  },
  {
   "cell_type": "code",
   "execution_count": 33,
   "metadata": {},
   "outputs": [],
   "source": [
    "# dataclasses.dataclass\n",
    "\n",
    "from dataclasses import dataclass\n",
    "\n",
    "\n",
    "@dataclass(frozen=True)\n",
    "class PassportDTO:\n",
    "    series: str\n",
    "    number: str\n",
    "    given_date: str\n",
    "\n",
    "\n",
    "@dataclass(frozen=True)\n",
    "class PersonDTO:\n",
    "    name: str\n",
    "    age: int\n",
    "    passport: PassportDTO"
   ]
  },
  {
   "cell_type": "code",
   "execution_count": 35,
   "metadata": {},
   "outputs": [],
   "source": [
    "seth = PersonDTO(\n",
    "    \"Seth\",\n",
    "    130,\n",
    "    PassportDTO(\n",
    "        '123',\n",
    "        '456',\n",
    "        '10.10.2000'\n",
    "    )\n",
    ")"
   ]
  },
  {
   "cell_type": "code",
   "execution_count": 27,
   "metadata": {},
   "outputs": [
    {
     "data": {
      "text/plain": [
       "{'name': 'Seth',\n",
       " 'age': 130,\n",
       " 'passport': PassportDTO(series='123', number='456', given_date='10.10.2000')}"
      ]
     },
     "execution_count": 27,
     "metadata": {},
     "output_type": "execute_result"
    }
   ],
   "source": [
    "seth.__dict__"
   ]
  },
  {
   "cell_type": "code",
   "execution_count": 38,
   "metadata": {},
   "outputs": [
    {
     "data": {
      "text/plain": [
       "{'name': Field(name='name',type=<class 'str'>,default=<dataclasses._MISSING_TYPE object at 0x000001EA64AC46D0>,default_factory=<dataclasses._MISSING_TYPE object at 0x000001EA64AC46D0>,init=True,repr=True,hash=None,compare=True,metadata=mappingproxy({}),kw_only=False,_field_type=_FIELD),\n",
       " 'age': Field(name='age',type=<class 'int'>,default=<dataclasses._MISSING_TYPE object at 0x000001EA64AC46D0>,default_factory=<dataclasses._MISSING_TYPE object at 0x000001EA64AC46D0>,init=True,repr=True,hash=None,compare=True,metadata=mappingproxy({}),kw_only=False,_field_type=_FIELD),\n",
       " 'passport': Field(name='passport',type=<class '__main__.PassportDTO'>,default=<dataclasses._MISSING_TYPE object at 0x000001EA64AC46D0>,default_factory=<dataclasses._MISSING_TYPE object at 0x000001EA64AC46D0>,init=True,repr=True,hash=None,compare=True,metadata=mappingproxy({}),kw_only=False,_field_type=_FIELD)}"
      ]
     },
     "execution_count": 38,
     "metadata": {},
     "output_type": "execute_result"
    }
   ],
   "source": [
    "seth.__dataclass_fields__"
   ]
  },
  {
   "cell_type": "code",
   "execution_count": 4,
   "metadata": {},
   "outputs": [
    {
     "data": {
      "text/plain": [
       "(130, '10.10.2000')"
      ]
     },
     "execution_count": 4,
     "metadata": {},
     "output_type": "execute_result"
    }
   ],
   "source": [
    "seth.age, seth.passport.given_date"
   ]
  },
  {
   "cell_type": "code",
   "execution_count": 36,
   "metadata": {},
   "outputs": [
    {
     "name": "stdout",
     "output_type": "stream",
     "text": [
      "object is not iterable\n"
     ]
    },
    {
     "data": {
      "text/plain": [
       "[]"
      ]
     },
     "execution_count": 36,
     "metadata": {},
     "output_type": "execute_result"
    }
   ],
   "source": [
    "seth_fields = []\n",
    "try:\n",
    "    for field in seth:\n",
    "        seth_fields.append(field)\n",
    "except: print(\"object is not iterable\")\n",
    "seth_fields"
   ]
  },
  {
   "cell_type": "code",
   "execution_count": 1,
   "metadata": {},
   "outputs": [],
   "source": [
    "# typing.TypedDict\n",
    "from typing import TypedDict"
   ]
  },
  {
   "cell_type": "code",
   "execution_count": 6,
   "metadata": {},
   "outputs": [],
   "source": [
    "class RegistrationDTO(TypedDict):\n",
    "    series: str\n",
    "    number: int\n",
    "\n",
    "\n",
    "class DocumentDTO(TypedDict):\n",
    "    name: str\n",
    "    registration: RegistrationDTO\n",
    "    desc: str"
   ]
  },
  {
   "cell_type": "code",
   "execution_count": 9,
   "metadata": {},
   "outputs": [],
   "source": [
    "contract = DocumentDTO(\n",
    "    name=\"buy_car\",\n",
    "    registration=RegistrationDTO(\n",
    "        series='123',\n",
    "        number=508\n",
    "    ),\n",
    "    desc='New document'\n",
    ")"
   ]
  },
  {
   "cell_type": "code",
   "execution_count": 10,
   "metadata": {},
   "outputs": [
    {
     "data": {
      "text/plain": [
       "{'name': 'buy_car',\n",
       " 'registration': {'series': '123', 'number': 508},\n",
       " 'desc': 'New document'}"
      ]
     },
     "execution_count": 10,
     "metadata": {},
     "output_type": "execute_result"
    }
   ],
   "source": [
    "contract"
   ]
  },
  {
   "cell_type": "code",
   "execution_count": 12,
   "metadata": {},
   "outputs": [
    {
     "data": {
      "text/plain": [
       "'buy_car'"
      ]
     },
     "execution_count": 12,
     "metadata": {},
     "output_type": "execute_result"
    }
   ],
   "source": [
    "contract['name']"
   ]
  }
 ],
 "metadata": {
  "kernelspec": {
   "display_name": "Python 3",
   "language": "python",
   "name": "python3"
  },
  "language_info": {
   "codemirror_mode": {
    "name": "ipython",
    "version": 3
   },
   "file_extension": ".py",
   "mimetype": "text/x-python",
   "name": "python",
   "nbconvert_exporter": "python",
   "pygments_lexer": "ipython3",
   "version": "3.12.2"
  },
  "orig_nbformat": 4
 },
 "nbformat": 4,
 "nbformat_minor": 2
}
