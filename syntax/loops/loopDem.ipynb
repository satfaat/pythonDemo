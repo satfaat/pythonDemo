{
 "cells": [
  {
   "cell_type": "code",
   "execution_count": 26,
   "metadata": {},
   "outputs": [],
   "source": [
    "from icecream import ic"
   ]
  },
  {
   "cell_type": "code",
   "execution_count": 1,
   "metadata": {},
   "outputs": [
    {
     "data": {
      "text/plain": [
       "[0, 1, 2, 3, 4]"
      ]
     },
     "execution_count": 1,
     "metadata": {},
     "output_type": "execute_result"
    }
   ],
   "source": [
    "def generate_list_1(limit: int) -> list:\n",
    "    arr: list = []\n",
    "    for n in range(limit):\n",
    "        arr.append(n)\n",
    "    return arr\n",
    "\n"
   ]
  },
  {
   "cell_type": "code",
   "execution_count": 9,
   "metadata": {},
   "outputs": [
    {
     "data": {
      "text/plain": [
       "[0, 1, 4, 9, 16, 25]"
      ]
     },
     "execution_count": 9,
     "metadata": {},
     "output_type": "execute_result"
    }
   ],
   "source": [
    "def generate_list_2(limit: int) -> list[int]:\n",
    "    return [n**2 for n in range(limit)]\n",
    "\n",
    "generate_list_2(6)"
   ]
  },
  {
   "cell_type": "code",
   "execution_count": 13,
   "metadata": {},
   "outputs": [
    {
     "data": {
      "text/plain": [
       "[25, 16, 9, 4, 1, 0]"
      ]
     },
     "execution_count": 13,
     "metadata": {},
     "output_type": "execute_result"
    }
   ],
   "source": [
    "generate_list_2(6)[::-1]"
   ]
  },
  {
   "cell_type": "code",
   "execution_count": 11,
   "metadata": {},
   "outputs": [
    {
     "data": {
      "text/plain": [
       "[25, 16, 9, 4, 1, 0]"
      ]
     },
     "execution_count": 11,
     "metadata": {},
     "output_type": "execute_result"
    }
   ],
   "source": [
    "def revers_1(origin: list) -> list:\n",
    "    reversed: list = []\n",
    "    size: int = len(origin) - 1\n",
    "    while size >= 0:\n",
    "        reversed.append(origin[size])\n",
    "        size -= 1\n",
    "    return reversed\n",
    "\n",
    "\n",
    "list_1 = generate_list_2(6)\n",
    "\n",
    "revers_1(list_1)"
   ]
  },
  {
   "cell_type": "code",
   "execution_count": 12,
   "metadata": {},
   "outputs": [
    {
     "name": "stdout",
     "output_type": "stream",
     "text": [
      "That index is not in the list\n"
     ]
    }
   ],
   "source": [
    "try:\n",
    "    generate_list_2(4)[5]\n",
    "except IndexError:\n",
    "    print('That index is not in the list')"
   ]
  },
  {
   "cell_type": "code",
   "execution_count": 28,
   "metadata": {},
   "outputs": [
    {
     "name": "stderr",
     "output_type": "stream",
     "text": [
      "ic| val: 0\n",
      "ic| val: 1\n",
      "ic| val: 4\n",
      "ic| val: 9\n"
     ]
    },
    {
     "name": "stderr",
     "output_type": "stream",
     "text": [
      "ic| val: 16\n",
      "ic| val: 25\n"
     ]
    }
   ],
   "source": [
    "for val in list_1:\n",
    "    ic(val)"
   ]
  },
  {
   "cell_type": "code",
   "execution_count": 31,
   "metadata": {},
   "outputs": [
    {
     "name": "stdout",
     "output_type": "stream",
     "text": [
      "5 25\n",
      "4 16\n",
      "3 9\n",
      "2 4\n",
      "1 1\n",
      "0 0\n"
     ]
    }
   ],
   "source": [
    "count = len(list_1)-1\n",
    "while count >= 0:\n",
    "    print(count, list_1[count])\n",
    "    count -= 1"
   ]
  },
  {
   "cell_type": "code",
   "execution_count": 37,
   "metadata": {},
   "outputs": [
    {
     "name": "stdout",
     "output_type": "stream",
     "text": [
      "3\n",
      "2\n",
      "1\n",
      "0\n"
     ]
    }
   ],
   "source": [
    "# https://realpython.com/python-recursion/\n",
    "def countdown(n):\n",
    "    print(n)\n",
    "    if n == 0:\n",
    "        return  # Terminate recursion\n",
    "    else:\n",
    "        countdown(n - 1)  # Recursive call\n",
    "\n",
    "countdown(3)"
   ]
  },
  {
   "cell_type": "code",
   "execution_count": 36,
   "metadata": {},
   "outputs": [
    {
     "name": "stdout",
     "output_type": "stream",
     "text": [
      "25\n",
      "16\n",
      "9\n",
      "4\n",
      "1\n",
      "0\n"
     ]
    }
   ],
   "source": [
    "def countdown(arr, n):\n",
    "    print(arr[n])\n",
    "    if n == 0:\n",
    "        return  # Terminate recursion\n",
    "    else:\n",
    "        countdown(arr, n - 1)  # Recursive call\n",
    "\n",
    "countdown(list_1, len(list_1) -1)"
   ]
  }
 ],
 "metadata": {
  "kernelspec": {
   "display_name": ".envpy",
   "language": "python",
   "name": "python3"
  },
  "language_info": {
   "codemirror_mode": {
    "name": "ipython",
    "version": 3
   },
   "file_extension": ".py",
   "mimetype": "text/x-python",
   "name": "python",
   "nbconvert_exporter": "python",
   "pygments_lexer": "ipython3",
   "version": "3.12.0"
  }
 },
 "nbformat": 4,
 "nbformat_minor": 2
}
