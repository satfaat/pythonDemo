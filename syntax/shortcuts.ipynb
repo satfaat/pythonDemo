{
 "cells": [
  {
   "cell_type": "code",
   "execution_count": null,
   "metadata": {},
   "outputs": [],
   "source": [
    "# Here's a comparison of various shortcuts and syntactic sugar in Python\n",
    "\n",
    "# 1. List Comprehensions vs. Traditional Loops:\n",
    "\n",
    "# Traditional loop to create a list of squares\n",
    "squares = []\n",
    "for i in range(1, 6):\n",
    "    squares.append(i * i)\n",
    "\n",
    "# List comprehension for the same task\n",
    "squares = [i * i for i in range(1, 6)]\n"
   ]
  },
  {
   "cell_type": "code",
   "execution_count": null,
   "metadata": {},
   "outputs": [],
   "source": [
    "# 2. Conditional Expressions vs. if-else Statements:\n",
    "\n",
    "# Traditional if-else statement\n",
    "x = 10\n",
    "if x > 0:\n",
    "    sign = \"positive\"\n",
    "else:\n",
    "    sign = \"negative\"\n",
    "\n",
    "# Conditional expression for the same task\n",
    "sign = \"positive\" if x > 0 else \"negative\"\n"
   ]
  },
  {
   "cell_type": "code",
   "execution_count": null,
   "metadata": {},
   "outputs": [],
   "source": [
    "# 3. Dictionary Comprehensions vs. Traditional Dict Initialization:\n",
    "\n",
    "# Traditional method to create a dictionary\n",
    "squares = {}\n",
    "for i in range(1, 6):\n",
    "    squares[i] = i * i\n",
    "\n",
    "# Dictionary comprehension for the same task\n",
    "squares = {i: i * i for i in range(1, 6)}"
   ]
  },
  {
   "cell_type": "code",
   "execution_count": null,
   "metadata": {},
   "outputs": [],
   "source": [
    "# 4. Generator Expressions vs. List Comprehensions:\n",
    "\n",
    "# List comprehension to create a list of squares\n",
    "squares = [i * i for i in range(1, 6)]\n",
    "\n",
    "# Generator expression for lazy evaluation\n",
    "squares_generator = (i * i for i in range(1, 6))"
   ]
  },
  {
   "cell_type": "code",
   "execution_count": null,
   "metadata": {},
   "outputs": [],
   "source": [
    "# 5. Using the in Operator for Membership Testing:\n",
    "\n",
    "# Traditional method to check membership in a list\n",
    "fruits = [\"apple\", \"banana\", \"orange\"]\n",
    "if \"banana\" in fruits:\n",
    "    print(\"Found banana!\")\n",
    "\n",
    "# Using the 'in' operator for the same task\n",
    "if \"banana\" in fruits:\n",
    "    print(\"Found banana!\")"
   ]
  },
  {
   "cell_type": "code",
   "execution_count": null,
   "metadata": {},
   "outputs": [],
   "source": [
    "# 6. Using zip for Iterating over Multiple Sequences:\n",
    "\n",
    "# Traditional method to iterate over multiple lists\n",
    "names = [\"Alice\", \"Bob\", \"Charlie\"]\n",
    "scores = [85, 92, 78]\n",
    "for name, score in zip(names, scores):\n",
    "    print(f\"{name}: {score}\")\n",
    "\n",
    "# Using 'zip' for the same task\n",
    "for name, score in zip(names, scores):\n",
    "    print(f\"{name}: {score}\")"
   ]
  }
 ],
 "metadata": {
  "language_info": {
   "name": "python"
  }
 },
 "nbformat": 4,
 "nbformat_minor": 2
}
