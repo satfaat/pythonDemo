{
 "cells": [
  {
   "cell_type": "code",
   "execution_count": null,
   "metadata": {},
   "outputs": [],
   "source": [
    "# oneAccountWithFunctions\n",
    "# Non-OOP\n",
    "# Bank 2\n",
    "# Single account"
   ]
  },
  {
   "cell_type": "code",
   "execution_count": 1,
   "metadata": {},
   "outputs": [],
   "source": [
    "from models.bank_fn.new_account import newAccount\n",
    "from models.bank_fn.bank_menu import menu\n",
    "from models.bank_fn.deposit import deposit\n",
    "from models.bank_fn.get_balance import getBalance\n",
    "from models.bank_fn.account_info import accountInfo"
   ]
  },
  {
   "cell_type": "code",
   "execution_count": 2,
   "metadata": {},
   "outputs": [
    {
     "name": "stdout",
     "output_type": "stream",
     "text": [
      "Joe's account is account number: 1\n",
      "Mary's account is account number: 2\n"
     ]
    }
   ],
   "source": [
    "# create an account\n",
    "newAccount(\"Joe\", 100, 'soup')\n",
    "newAccount(\"Mary\", 12345, 'nuts')"
   ]
  },
  {
   "cell_type": "code",
   "execution_count": null,
   "metadata": {},
   "outputs": [],
   "source": [
    "while True:\n",
    "    menu()\n",
    "\n",
    "    action: str = input('What do you want to do? ')\n",
    "    action = action.lower()  # force lowercase\n",
    "    action = action[0]  # just use first letter\n",
    "    print()\n",
    "\n",
    "    if action == 'q':\n",
    "        break\n",
    "    elif action == 'b':\n",
    "        print('Get Balance:')\n",
    "        userAccountNumber = input('Please enter your account number: ')\n",
    "        userAccountNumber = int(userAccountNumber)\n",
    "        userPassword = input('Please enter the password: ')\n",
    "        theBalance = getBalance(userAccountNumber, userPassword)\n",
    "        if theBalance is not None:\n",
    "            print('Your balance is:', theBalance)\n",
    "    elif action == 's':  # show\n",
    "        print('Show:')\n",
    "        userAccountNumber = input('Please enter your account number: ')\n",
    "        accountInfo(userAccountNumber)\n",
    "    elif action == 'd':\n",
    "        print('Deposit:')\n",
    "        userDepositAmount = input('Please enter amount to deposit: ')\n",
    "        userDepositAmount = int(userDepositAmount)\n",
    "        userPassword = input('Please enter the password: ')\n",
    "        newBalance = deposit(userDepositAmount, userPassword)\n",
    "        if newBalance is not None:\n",
    "            print('Your new balance is:', newBalance)\n",
    "print('Done')"
   ]
  }
 ],
 "metadata": {
  "kernelspec": {
   "display_name": ".envpy",
   "language": "python",
   "name": "python3"
  },
  "language_info": {
   "codemirror_mode": {
    "name": "ipython",
    "version": 3
   },
   "file_extension": ".py",
   "mimetype": "text/x-python",
   "name": "python",
   "nbconvert_exporter": "python",
   "pygments_lexer": "ipython3",
   "version": "3.11.4"
  },
  "orig_nbformat": 4
 },
 "nbformat": 4,
 "nbformat_minor": 2
}
