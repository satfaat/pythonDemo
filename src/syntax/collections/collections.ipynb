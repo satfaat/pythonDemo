{
 "cells": [
  {
   "cell_type": "markdown",
   "metadata": {},
   "source": [
    "- **List** is a collection which is ordered and changeable. Allows duplicate members.\n",
    "- **Tuple** is a collection which is ordered and unchangeable. Allows duplicate members.\n",
    "- **Set** is a collection which is unordered and unindexed. No duplicate members.\n",
    "- **Dictionary** is a collection which is unordered, changeable and indexed. No duplicate members.\n",
    "\n",
    "collections | fast | ordered | changeable | duplicated\n",
    "---|:---:|:---:|:---:|:---:\n",
    "list []        | 0 | 1 | 1 | 1\n",
    "dictionary {}    | 0 | 0 | 1 | 0\n",
    "tuple ()        | 1 | 1 | 0 | 1\n",
    "set {}        | 1 | 0 | 1 | 0\n"
   ]
  },
  {
   "cell_type": "markdown",
   "metadata": {},
   "source": [
    "## List []\n",
    "- aka список as js array\n",
    "- **ordered**\n",
    "- **changeable** | are mutable\n",
    "- has **duplicate members**"
   ]
  },
  {
   "cell_type": "code",
   "execution_count": 1,
   "metadata": {},
   "outputs": [
    {
     "name": "stdout",
     "output_type": "stream",
     "text": [
      "['apple', 'banana', 'cherry', 'apple'] 1358522153472\n",
      "['apple', 'pumpking'] 1358522144832\n"
     ]
    }
   ],
   "source": [
    "fruits = ['apple', 'banana', 'cherry', 'apple']\n",
    "fruits_usa = ['apple', 'pumpking']\n",
    "print(fruits, id(fruits), end='\\n')\n",
    "print( fruits_usa, id(fruits_usa))"
   ]
  },
  {
   "cell_type": "markdown",
   "metadata": {},
   "source": [
    "### Access items:"
   ]
  },
  {
   "cell_type": "code",
   "execution_count": 62,
   "metadata": {},
   "outputs": [
    {
     "data": {
      "text/plain": [
       "('banana', 'apple')"
      ]
     },
     "execution_count": 62,
     "metadata": {},
     "output_type": "execute_result"
    }
   ],
   "source": [
    "fruits[1], fruits[-1]"
   ]
  },
  {
   "cell_type": "code",
   "execution_count": 65,
   "metadata": {},
   "outputs": [
    {
     "data": {
      "text/plain": [
       "(['banana', 'cherry'], ['apple', 'banana', 'cherry'], ['cherry', 'apple'])"
      ]
     },
     "execution_count": 65,
     "metadata": {},
     "output_type": "execute_result"
    }
   ],
   "source": [
    "# cut or filtered\n",
    "fruits[1:3], fruits[:3], fruits[2:]"
   ]
  },
  {
   "cell_type": "markdown",
   "metadata": {},
   "source": [
    "### Change item value | replace val"
   ]
  },
  {
   "cell_type": "code",
   "execution_count": 9,
   "metadata": {},
   "outputs": [
    {
     "data": {
      "text/plain": [
       "['apple', 'blackcurrant', 'cherry']"
      ]
     },
     "execution_count": 9,
     "metadata": {},
     "output_type": "execute_result"
    }
   ],
   "source": [
    "fruits[1] = 'blackcurrant'\n",
    "fruits"
   ]
  },
  {
   "cell_type": "code",
   "execution_count": 2,
   "metadata": {},
   "outputs": [
    {
     "data": {
      "text/plain": [
       "['apple', 'banana', 'cherry', 'apple', 'egg']"
      ]
     },
     "execution_count": 2,
     "metadata": {},
     "output_type": "execute_result"
    }
   ],
   "source": [
    "# add value at the end of list\n",
    "fruits.append('egg')\n",
    "fruits"
   ]
  },
  {
   "cell_type": "markdown",
   "metadata": {},
   "source": [
    "### Combine lists"
   ]
  },
  {
   "cell_type": "code",
   "execution_count": null,
   "metadata": {},
   "outputs": [],
   "source": []
  },
  {
   "cell_type": "markdown",
   "metadata": {},
   "source": [
    "### Go throw each value in list"
   ]
  },
  {
   "cell_type": "code",
   "execution_count": 74,
   "metadata": {},
   "outputs": [
    {
     "name": "stdout",
     "output_type": "stream",
     "text": [
      "there it is!\n"
     ]
    }
   ],
   "source": [
    "# existence of value\n",
    "if 'banana' in fruits:\n",
    "    print('there it is!')\n",
    "else:\n",
    "    print('What is it?')"
   ]
  },
  {
   "cell_type": "code",
   "execution_count": 76,
   "metadata": {},
   "outputs": [
    {
     "name": "stdout",
     "output_type": "stream",
     "text": [
      "What is it?\n"
     ]
    }
   ],
   "source": [
    "# absent of value\n",
    "if 'orange' not in fruits:\n",
    "    print('What is it?')"
   ]
  },
  {
   "cell_type": "code",
   "execution_count": 3,
   "metadata": {},
   "outputs": [
    {
     "data": {
      "text/plain": [
       "'there it is!'"
      ]
     },
     "execution_count": 3,
     "metadata": {},
     "output_type": "execute_result"
    }
   ],
   "source": [
    "# Ternary operator\n",
    "'there it is!' if 'banana' in fruits else \"What is it?\""
   ]
  },
  {
   "cell_type": "markdown",
   "metadata": {},
   "source": [
    "## Set {}\n",
    "- aka множество\n",
    "- unordered\n",
    "- unindexed (is not subscriptable)\n",
    "- no duplicate members"
   ]
  },
  {
   "cell_type": "code",
   "execution_count": 58,
   "metadata": {},
   "outputs": [
    {
     "data": {
      "text/plain": [
       "{'apple', 'banana', 'cherry'}"
      ]
     },
     "execution_count": 58,
     "metadata": {},
     "output_type": "execute_result"
    }
   ],
   "source": [
    "fruits_set = {'apple', 'cherry', 'banana', 'cherry'}  ## duplicate ignored\n",
    "fruits_set"
   ]
  },
  {
   "cell_type": "code",
   "execution_count": 61,
   "metadata": {},
   "outputs": [
    {
     "data": {
      "text/plain": [
       "{'apple', 'banana', 'cherry'}"
      ]
     },
     "execution_count": 61,
     "metadata": {},
     "output_type": "execute_result"
    }
   ],
   "source": [
    "fruits_unique = set(fruits)\n",
    "fruits_unique"
   ]
  },
  {
   "cell_type": "code",
   "execution_count": 59,
   "metadata": {},
   "outputs": [
    {
     "name": "stdout",
     "output_type": "stream",
     "text": [
      "is not subscriptable\n"
     ]
    }
   ],
   "source": [
    "try:\n",
    "    fruits_set[1]\n",
    "except:\n",
    "    print('is not subscriptable')"
   ]
  },
  {
   "cell_type": "markdown",
   "metadata": {},
   "source": [
    "### Add value to set"
   ]
  },
  {
   "cell_type": "code",
   "execution_count": 67,
   "metadata": {},
   "outputs": [
    {
     "data": {
      "text/plain": [
       "{'d', 'e', 'ed', 'n', 'o', 'r', 'u'}"
      ]
     },
     "execution_count": 67,
     "metadata": {},
     "output_type": "execute_result"
    }
   ],
   "source": [
    "# unordered\n",
    "word_set = set('unorder')\n",
    "word_set.add('ed')\n",
    "word_set"
   ]
  },
  {
   "cell_type": "markdown",
   "metadata": {},
   "source": [
    "### Combine sets"
   ]
  },
  {
   "cell_type": "code",
   "execution_count": 71,
   "metadata": {},
   "outputs": [
    {
     "name": "stdout",
     "output_type": "stream",
     "text": [
      "{'i wonder', 'Last christmas', 'snowflake', 'Happy new year'}\n"
     ]
    }
   ],
   "source": [
    "songs_my: set[str] = {'i wonder', 'Happy new year', 'snowflake'}\n",
    "songs_friends: set[str] = {'Last christmas', 'snowflake', 'Happy new year'}\n",
    "print(songs_my.union(songs_friends))"
   ]
  },
  {
   "cell_type": "markdown",
   "metadata": {},
   "source": [
    "### finde diff"
   ]
  },
  {
   "cell_type": "code",
   "execution_count": 72,
   "metadata": {},
   "outputs": [
    {
     "name": "stdout",
     "output_type": "stream",
     "text": [
      "{'cherry', 'banana'} {'pumpking'}\n"
     ]
    },
    {
     "data": {
      "text/plain": [
       "{'Last christmas'}"
      ]
     },
     "execution_count": 72,
     "metadata": {},
     "output_type": "execute_result"
    }
   ],
   "source": [
    "unique_fruits: set[str] = set(fruits)-set(fruits_usa)\n",
    "unique_fruits_usa: set[str] = set(fruits_usa)-set(fruits)\n",
    "\n",
    "print(unique_fruits, unique_fruits_usa)\n",
    "songs_friends.difference(songs_my)"
   ]
  },
  {
   "cell_type": "code",
   "execution_count": 73,
   "metadata": {},
   "outputs": [
    {
     "data": {
      "text/plain": [
       "{'Happy new year', 'snowflake'}"
      ]
     },
     "execution_count": 73,
     "metadata": {},
     "output_type": "execute_result"
    }
   ],
   "source": [
    "# intersection - пересечение\n",
    "songs_friends.intersection(songs_my)"
   ]
  },
  {
   "cell_type": "markdown",
   "metadata": {},
   "source": [
    "## Dictionary {}\n",
    "- aka Словари the same as js object\n",
    "- unordered \n",
    "- changeable and indexed \n",
    "- no duplicate members in keys"
   ]
  },
  {
   "cell_type": "markdown",
   "metadata": {},
   "source": [
    "### Variables"
   ]
  },
  {
   "cell_type": "code",
   "execution_count": 2,
   "metadata": {},
   "outputs": [
    {
     "data": {
      "text/plain": [
       "{'brand': 'Ford', 'model': 'Mustang', 'year': 1964, 'other': 'Mustang'}"
      ]
     },
     "execution_count": 2,
     "metadata": {},
     "output_type": "execute_result"
    }
   ],
   "source": [
    "# dictionary data\n",
    "exchange_rates = {'rub': [1, 'руб'], 'usd': [60.00, 'USD'], 'eur': [70.00, 'Euro']}  # as json\n",
    "car_attr = {\n",
    "    'brand':'Ford',\n",
    "    'model': 'Mustang',\n",
    "    'year': 1964,\n",
    "    'model': 'Mustang', ## duplicate will be ignored\n",
    "    'other': 'Mustang'\n",
    "}\n",
    "car_attr"
   ]
  },
  {
   "cell_type": "markdown",
   "metadata": {},
   "source": [
    "### Get the value of the key:"
   ]
  },
  {
   "cell_type": "code",
   "execution_count": 3,
   "metadata": {},
   "outputs": [
    {
     "data": {
      "text/plain": [
       "'Mustang'"
      ]
     },
     "execution_count": 3,
     "metadata": {},
     "output_type": "execute_result"
    }
   ],
   "source": [
    "ford_model = car_attr['model']\n",
    "ford_model"
   ]
  },
  {
   "cell_type": "code",
   "execution_count": 4,
   "metadata": {},
   "outputs": [
    {
     "data": {
      "text/plain": [
       "'Ford'"
      ]
     },
     "execution_count": 4,
     "metadata": {},
     "output_type": "execute_result"
    }
   ],
   "source": [
    "car_attr.get('brand')"
   ]
  },
  {
   "cell_type": "code",
   "execution_count": 5,
   "metadata": {},
   "outputs": [
    {
     "data": {
      "text/plain": [
       "(dict_keys(['brand', 'model', 'year', 'other']), dict_keys)"
      ]
     },
     "execution_count": 5,
     "metadata": {},
     "output_type": "execute_result"
    }
   ],
   "source": [
    "# all keys in dict\n",
    "car_keys = car_attr.keys()\n",
    "car_keys, type(car_keys)"
   ]
  },
  {
   "cell_type": "code",
   "execution_count": 27,
   "metadata": {},
   "outputs": [
    {
     "data": {
      "text/plain": [
       "dict_values(['Ford', 'Mustang', 1964])"
      ]
     },
     "execution_count": 27,
     "metadata": {},
     "output_type": "execute_result"
    }
   ],
   "source": [
    "# all values in dict\n",
    "car_attr.values()"
   ]
  },
  {
   "cell_type": "code",
   "execution_count": 28,
   "metadata": {},
   "outputs": [
    {
     "name": "stdout",
     "output_type": "stream",
     "text": [
      "Can't convert int values in dict to string\n"
     ]
    }
   ],
   "source": [
    "# dict to string\n",
    "try:\n",
    "    print(\", \".join(car_attr.values()))  # drop error if dict has int value\n",
    "except:\n",
    "    print(\"Can't convert int values in dict to string\")"
   ]
  },
  {
   "cell_type": "code",
   "execution_count": 39,
   "metadata": {},
   "outputs": [
    {
     "data": {
      "text/plain": [
       "('brand, model, year', str)"
      ]
     },
     "execution_count": 39,
     "metadata": {},
     "output_type": "execute_result"
    }
   ],
   "source": [
    "key_attr: str = ', '.join(car_attr.keys())\n",
    "key_attr, type(key_attr)"
   ]
  },
  {
   "cell_type": "markdown",
   "metadata": {},
   "source": [
    "### Change item value with dict:"
   ]
  },
  {
   "cell_type": "code",
   "execution_count": 36,
   "metadata": {},
   "outputs": [
    {
     "data": {
      "text/plain": [
       "'soul'"
      ]
     },
     "execution_count": 36,
     "metadata": {},
     "output_type": "execute_result"
    }
   ],
   "source": [
    "car_attr['model'] = 'soul'\n",
    "car_attr.get('model')"
   ]
  },
  {
   "cell_type": "markdown",
   "metadata": {},
   "source": [
    "### Loops"
   ]
  },
  {
   "cell_type": "code",
   "execution_count": 2,
   "metadata": {},
   "outputs": [
    {
     "name": "stdout",
     "output_type": "stream",
     "text": [
      "name Smith\n",
      "name 26\n",
      "age Smith\n",
      "age 26\n"
     ]
    }
   ],
   "source": [
    "person = {\n",
    "    'name': 'Smith',\n",
    "    'age': 26\n",
    "}\n",
    "\n",
    "# looping in dictionary\n",
    "for key in person.keys():\n",
    "    for value in person.values():\n",
    "        print(key, value)"
   ]
  },
  {
   "cell_type": "code",
   "execution_count": 3,
   "metadata": {},
   "outputs": [
    {
     "name": "stdout",
     "output_type": "stream",
     "text": [
      "name: Smith\n",
      "age: 26\n"
     ]
    }
   ],
   "source": [
    "for key, value in person.items():\n",
    "    print(f'{key}: {value}')"
   ]
  },
  {
   "cell_type": "code",
   "execution_count": 6,
   "metadata": {},
   "outputs": [
    {
     "name": "stdout",
     "output_type": "stream",
     "text": [
      "soccer\n",
      "hockey\n"
     ]
    }
   ],
   "source": [
    "data: dict[str, list[str]] = {'sports': ['soccer', 'hockey']}\n",
    "\n",
    "#print(data['sports'][0])\n",
    "for index in range(len(data['sports'])):\n",
    "    print(data['sports'][index])"
   ]
  },
  {
   "cell_type": "code",
   "execution_count": 7,
   "metadata": {},
   "outputs": [
    {
     "name": "stdout",
     "output_type": "stream",
     "text": [
      "sports\n"
     ]
    }
   ],
   "source": [
    "def loop(data) -> None:\n",
    "    for item in data:\n",
    "        print(item)\n",
    "loop(data)"
   ]
  },
  {
   "cell_type": "code",
   "execution_count": 8,
   "metadata": {},
   "outputs": [
    {
     "name": "stdout",
     "output_type": "stream",
     "text": [
      "['soccer', 'hockey'] and {'sports': ['soccer', 'hockey']}\n"
     ]
    }
   ],
   "source": [
    "sports_list: list[str] = data['sports']\n",
    "sports_dict = dict({'sports': sports_list})\n",
    "print(sports_list, 'and', sports_dict)"
   ]
  },
  {
   "cell_type": "code",
   "execution_count": 10,
   "metadata": {},
   "outputs": [
    {
     "name": "stdout",
     "output_type": "stream",
     "text": [
      "Иванов [23, 35, 70, 45]\n",
      "Петров [38, 72, 65, 80]\n"
     ]
    }
   ],
   "source": [
    "game_scores: dict[str, list[int]] = {\n",
    "    'Иванов': [23, 35, 70, 45],\n",
    "    'Петров': [38, 72, 65, 80]\n",
    "}\n",
    "\n",
    "for person in game_scores: \n",
    "    print(person, game_scores[person]) "
   ]
  },
  {
   "cell_type": "code",
   "execution_count": 11,
   "metadata": {},
   "outputs": [
    {
     "data": {
      "text/plain": [
       "'Иванов - 173'"
      ]
     },
     "metadata": {},
     "output_type": "display_data"
    },
    {
     "data": {
      "text/plain": [
       "'Петров - 255'"
      ]
     },
     "metadata": {},
     "output_type": "display_data"
    }
   ],
   "source": [
    "for person, points in game_scores.items(): \n",
    "    total_points: int = sum(points)\n",
    "    display(f'{person} - {total_points}')"
   ]
  },
  {
   "cell_type": "markdown",
   "metadata": {},
   "source": [
    "## Tuple ()\n",
    "- aka Кортежи\n",
    "- ordered\n",
    "- unchangeable | are immutable\n",
    "- allows duplicate members"
   ]
  },
  {
   "cell_type": "code",
   "execution_count": 56,
   "metadata": {},
   "outputs": [
    {
     "data": {
      "text/plain": [
       "(('apple', 'cherry', 'banana', 'cherry', [3, 6, 9]), 'apple')"
      ]
     },
     "execution_count": 56,
     "metadata": {},
     "output_type": "execute_result"
    }
   ],
   "source": [
    "fruits_tuple = ('apple', 'cherry', 'banana', 'cherry', [3, 6, 9])\n",
    "fruits_tuple, fruits_tuple[0]"
   ]
  },
  {
   "cell_type": "code",
   "execution_count": 54,
   "metadata": {},
   "outputs": [
    {
     "name": "stdout",
     "output_type": "stream",
     "text": [
      "tuples are immutable: does not support item assignment\n"
     ]
    }
   ],
   "source": [
    "## tuples are immutable\n",
    "try:\n",
    "    fruits_tuple[0] = 'orange'\n",
    "    fruits_tuple\n",
    "except:\n",
    "    print('tuples are immutable: does not support item assignment')"
   ]
  }
 ],
 "metadata": {
  "kernelspec": {
   "display_name": ".envpy",
   "language": "python",
   "name": "python3"
  },
  "language_info": {
   "codemirror_mode": {
    "name": "ipython",
    "version": 3
   },
   "file_extension": ".py",
   "mimetype": "text/x-python",
   "name": "python",
   "nbconvert_exporter": "python",
   "pygments_lexer": "ipython3",
   "version": "3.11.2"
  },
  "orig_nbformat": 4,
  "vscode": {
   "interpreter": {
    "hash": "d466f5a145533eacc584c6d911e4e9caf56217c1cef976a2b5467cc7558a574d"
   }
  }
 },
 "nbformat": 4,
 "nbformat_minor": 2
}
