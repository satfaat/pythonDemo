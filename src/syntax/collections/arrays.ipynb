{
 "cells": [
  {
   "cell_type": "markdown",
   "metadata": {},
   "source": [
    "## Variables"
   ]
  },
  {
   "cell_type": "code",
   "execution_count": 4,
   "metadata": {},
   "outputs": [
    {
     "name": "stdout",
     "output_type": "stream",
     "text": [
      "[-2, 0, 8, -9]\n"
     ]
    }
   ],
   "source": [
    "numbers = [-1, -2, 0, 8, -9]\n",
    "\n",
    "# tuples are immutable\n",
    "t1 = ('hello', 2, 'tree')\n",
    "t2 = True, 1\n",
    "\n",
    "guesses = ['_'] * 5\n",
    "vowels = [\"a\", \"e\", \"i\", \"o\", \"u\"]\n",
    "vowels_full = 'aeiouAEIOU'\n",
    "vowels_lower = \"aeiou\"\n",
    "s = \"Dark Souls LOL\"\n"
   ]
  },
  {
   "cell_type": "markdown",
   "metadata": {},
   "source": [
    "## Methods"
   ]
  },
  {
   "cell_type": "code",
   "execution_count": 5,
   "metadata": {
    "tags": []
   },
   "outputs": [
    {
     "name": "stdout",
     "output_type": "stream",
     "text": [
      "That index is not in the list\n",
      "[0, 1, 2, 3, 4, 5]\n",
      "[5, 4, 3, 2, 1, 0]\n",
      "[0, 1, 4, 9, 16]\n"
     ]
    }
   ],
   "source": [
    "# methods\n",
    "def lst_gen_1(limit: int):\n",
    "    nlst = []\n",
    "    for n in range(limit):\n",
    "        nlst.append(n)\n",
    "    return nlst\n",
    "\n",
    "def lst_gen_2(limit: int):\n",
    "    return [n**2 for n in range(limit)]\n",
    "\n",
    "\n",
    "try:\n",
    "    lst_gen_2(4)[5]\n",
    "except IndexError:\n",
    "    print('That index is not in the list')\n",
    "\n",
    "def not_in_list(list1, list2):\n",
    "    llist_notin_rlist = []\n",
    "    for el in list1:\n",
    "        if el not in list2:\n",
    "            llist_notin_rlist.append(el)\n",
    "    return llist_notin_rlist\n",
    "\n",
    "\n",
    "# reload\n",
    "wheel = [\n",
    "    lst_gen_1(6),\n",
    "    lst_gen_2(5)\n",
    "]\n",
    "\n",
    "# releas\n",
    "print(wheel[0])\n",
    "print(wheel[0][::-1])\n",
    "print(wheel[1])\n",
    "print(not_in_list(numbers, vowels))"
   ]
  },
  {
   "cell_type": "code",
   "execution_count": null,
   "metadata": {},
   "outputs": [],
   "source": [
    "def do_revers():\n",
    "    reversed = []\n",
    "    size = len(list) - 1\n",
    "    while size >=0:\n",
    "        reversed.append(size)\n",
    "        size -= 1\n",
    "    return reversed"
   ]
  },
  {
   "cell_type": "code",
   "execution_count": 4,
   "metadata": {},
   "outputs": [
    {
     "name": "stdout",
     "output_type": "stream",
     "text": [
      "['_', '_', '_', '_', '_']\n",
      "Drck Sls LL\n"
     ]
    }
   ],
   "source": [
    "print(guesses)\n",
    "\n",
    "\n",
    "def disemvowel_2(s):\n",
    "    return \"\".join(char for char in s if char.lower() not in vowels_lower)\n",
    "\n",
    "def disemvowel_3(s):\n",
    "    for char in vowels_full:\n",
    "        s = s.replace(char,'')\n",
    "    return s\n",
    "\n",
    "def disemvowel_4(s):\n",
    "    new_string = ''\n",
    "    for i in s:\n",
    "        if i not in vowels_full:\n",
    "            new_string+= i \n",
    "    return new_string\n",
    "\n",
    "print(disemvowel_4(s))"
   ]
  },
  {
   "cell_type": "code",
   "execution_count": 15,
   "metadata": {},
   "outputs": [
    {
     "name": "stdout",
     "output_type": "stream",
     "text": [
      "<class 'tuple'> <class 'tuple'>\n"
     ]
    }
   ],
   "source": [
    "\n",
    "print(type(t1), type(t2))"
   ]
  },
  {
   "cell_type": "code",
   "execution_count": 1,
   "metadata": {},
   "outputs": [
    {
     "name": "stdout",
     "output_type": "stream",
     "text": [
      "True\n"
     ]
    }
   ],
   "source": [
    "\n",
    "has_positives: bool = any(n > 0 for n in numbers)\n",
    "print(has_positives)"
   ]
  }
 ],
 "metadata": {
  "kernelspec": {
   "display_name": "Python 3.10.0 ('.env_jupyter': venv)",
   "language": "python",
   "name": "python3"
  },
  "language_info": {
   "codemirror_mode": {
    "name": "ipython",
    "version": 3
   },
   "file_extension": ".py",
   "mimetype": "text/x-python",
   "name": "python",
   "nbconvert_exporter": "python",
   "pygments_lexer": "ipython3",
   "version": "3.10.0"
  },
  "orig_nbformat": 2,
  "vscode": {
   "interpreter": {
    "hash": "acd7119d548134a99e6f9d1f29df8db3a357202429f0f56f73b34e23b90bc877"
   }
  }
 },
 "nbformat": 4,
 "nbformat_minor": 2
}
